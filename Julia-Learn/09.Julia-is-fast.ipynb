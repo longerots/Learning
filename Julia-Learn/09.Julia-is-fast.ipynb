{
  "cells": [
    {
      "cell_type": "markdown",
      "source": [
        "# Julia is fast\n",
        "\n",
        "Very often, benchmarks are used to compare languages.  These benchmarks can lead to long discussions, first as to exactly what is being benchmarked and secondly what explains the differences.  These simple questions can sometimes get more complicated than you at first might imagine.\n",
        "\n",
        "The purpose of this notebook is for you to see a simple benchmark for yourself.  One can read the notebook and see what happened on the author's Macbook Pro with a 4-core Intel Core I7, or run the notebook yourself.\n",
        "\n",
        "(This material began life as a wonderful lecture by Steven Johnson at MIT: https://github.com/stevengj/18S096/blob/master/lectures/lecture1/Boxes-and-registers.ipynb.)"
      ],
      "metadata": {}
    },
    {
      "cell_type": "markdown",
      "source": [
        "# Outline of this notebook\n",
        "\n",
        "- Define the sum function\n",
        "- Implementations & benchmarking of sum in...\n",
        "    - C (hand-written)\n",
        "    - C (hand-written with -ffast-math)\n",
        "    - python (built-in)\n",
        "    - python (numpy)\n",
        "    - python (hand-written)\n",
        "    - Julia (built-in)\n",
        "    - Julia (hand-written)\n",
        "    - Julia (hand-written with SIMD)\n",
        "- Summary of benchmarks"
      ],
      "metadata": {}
    },
    {
      "cell_type": "markdown",
      "source": [
        "# `sum`: An easy enough function to understand"
      ],
      "metadata": {}
    },
    {
      "cell_type": "markdown",
      "source": [
        "Consider the  **sum** function `sum(a)`, which computes\n",
        "$$\n",
        "\\mathrm{sum}(a) = \\sum_{i=1}^n a_i,\n",
        "$$\n",
        "where $n$ is the length of `a`."
      ],
      "metadata": {}
    },
    {
      "cell_type": "code",
      "source": [
        "a = rand(10^7) # 1D vector of random numbers, uniform on [0,1)"
      ],
      "outputs": [
        {
          "output_type": "execute_result",
          "execution_count": 1,
          "data": {
            "text/plain": "10000000-element Array{Float64,1}:\n 0.823893882707537\n 0.1276525204958734\n 0.9525283264295452\n 0.8908556859951959\n 0.6635437042205128\n 0.9229662859170615\n 0.45444578714041506\n 0.2914574451384033\n 0.3537981950820903\n 0.25283496653140336\n 0.4366790455543821\n 0.8039598821180025\n 0.15059299167293716\n ⋮\n 0.5488387364024814\n 0.4763436501379097\n 0.7634002665676205\n 0.7521348218439254\n 0.012825891174840898\n 0.6760677132424497\n 0.2391924912060619\n 0.35509892910070584\n 0.4472268294392918\n 0.054175126734670176\n 0.5024684092357377\n 0.7813982882784856"
          },
          "metadata": {}
        }
      ],
      "execution_count": 1,
      "metadata": {
        "execution": {
          "iopub.status.busy": "2020-09-06T14:33:00.166Z",
          "iopub.execute_input": "2020-09-06T14:33:01.084Z",
          "iopub.status.idle": "2020-09-06T14:33:02.677Z"
        }
      }
    },
    {
      "cell_type": "code",
      "source": [
        "sum(a)"
      ],
      "outputs": [
        {
          "output_type": "execute_result",
          "execution_count": 2,
          "data": {
            "text/plain": "5.000589460255172e6"
          },
          "metadata": {}
        }
      ],
      "execution_count": 2,
      "metadata": {
        "execution": {
          "iopub.status.busy": "2020-09-06T14:33:11.632Z",
          "iopub.execute_input": "2020-09-06T14:33:11.651Z",
          "iopub.status.idle": "2020-09-06T14:33:11.971Z"
        }
      }
    },
    {
      "cell_type": "markdown",
      "source": [
        "The expected result is 0.5 * 10^7, since the mean of each entry is 0.5"
      ],
      "metadata": {}
    },
    {
      "cell_type": "markdown",
      "source": [
        "# Benchmarking a few ways in a few languages"
      ],
      "metadata": {}
    },
    {
      "cell_type": "code",
      "source": [
        "@time sum(a)"
      ],
      "outputs": [
        {
          "output_type": "stream",
          "name": "stdout",
          "text": [
            "  0.005460 seconds (1 allocation: 16 bytes)\n"
          ]
        },
        {
          "output_type": "execute_result",
          "execution_count": 3,
          "data": {
            "text/plain": "5.000589460255172e6"
          },
          "metadata": {}
        }
      ],
      "execution_count": 3,
      "metadata": {
        "execution": {
          "iopub.status.busy": "2020-09-06T14:33:25.260Z",
          "iopub.execute_input": "2020-09-06T14:33:25.279Z",
          "iopub.status.idle": "2020-09-06T14:33:25.425Z"
        }
      }
    },
    {
      "cell_type": "code",
      "source": [
        "@time sum(a)"
      ],
      "outputs": [
        {
          "output_type": "stream",
          "name": "stdout",
          "text": [
            "  0.004958 seconds (1 allocation: 16 bytes)\n"
          ]
        },
        {
          "output_type": "execute_result",
          "execution_count": 4,
          "data": {
            "text/plain": "5.000589460255172e6"
          },
          "metadata": {}
        }
      ],
      "execution_count": 4,
      "metadata": {
        "execution": {
          "iopub.status.busy": "2020-09-06T14:33:32.575Z",
          "iopub.execute_input": "2020-09-06T14:33:32.596Z",
          "iopub.status.idle": "2020-09-06T14:33:32.710Z"
        }
      }
    },
    {
      "cell_type": "code",
      "source": [
        "@time sum(a)"
      ],
      "outputs": [
        {
          "output_type": "stream",
          "name": "stdout",
          "text": [
            "  0.006666 seconds (1 allocation: 16 bytes)\n"
          ]
        },
        {
          "output_type": "execute_result",
          "execution_count": 5,
          "data": {
            "text/plain": "5.000589460255172e6"
          },
          "metadata": {}
        }
      ],
      "execution_count": 5,
      "metadata": {
        "execution": {
          "iopub.status.busy": "2020-09-06T14:33:35.010Z",
          "iopub.execute_input": "2020-09-06T14:33:35.029Z",
          "iopub.status.idle": "2020-09-06T14:33:35.070Z"
        }
      }
    },
    {
      "cell_type": "markdown",
      "source": [
        "The `@time` macro can yield noisy results, so it's not our best choice for benchmarking!\n",
        "\n",
        "Luckily, Julia has a `BenchmarkTools.jl` package to make benchmarking easy and accurate:"
      ],
      "metadata": {}
    },
    {
      "cell_type": "code",
      "source": [
        "# using Pkg\n",
        "# Pkg.add(\"BenchmarkTools\")"
      ],
      "outputs": [],
      "execution_count": null,
      "metadata": {}
    },
    {
      "cell_type": "code",
      "source": [
        "using BenchmarkTools"
      ],
      "outputs": [],
      "execution_count": 13,
      "metadata": {
        "execution": {
          "iopub.status.busy": "2020-09-06T14:53:01.795Z",
          "iopub.execute_input": "2020-09-06T14:53:01.811Z",
          "iopub.status.idle": "2020-09-06T14:53:01.833Z"
        }
      }
    },
    {
      "cell_type": "markdown",
      "source": [
        "#  1. The C language\n",
        "\n",
        "C is often considered the gold standard: difficult on the human, nice for the machine. Getting within a factor of 2 of C is often satisfying. Nonetheless, even within C, there are many kinds of optimizations possible that a naive C writer may or may not get the advantage of.\n",
        "\n",
        "The current author does not speak C, so he does not read the cell below, but is happy to know that you can put C code in a Julia session, compile it, and run it. Note that the `\"\"\"` wrap a multi-line string."
      ],
      "metadata": {}
    },
    {
      "cell_type": "code",
      "source": [
        "using Libdl\n",
        "C_code = \"\"\"\n",
        "#include <stddef.h>\n",
        "double c_sum(size_t n, double *X) {\n",
        "    double s = 0.0;\n",
        "    for (size_t i = 0; i < n; ++i) {\n",
        "        s += X[i];\n",
        "    }\n",
        "    return s;\n",
        "}\n",
        "\"\"\"\n",
        "\n",
        "const Clib = tempname()   # make a temporary file\n",
        "\n",
        "\n",
        "# compile to a shared library by piping C_code to gcc\n",
        "# (works only if you have gcc installed):\n",
        "\n",
        "open(`gcc -fPIC -O3 -msse3 -xc -shared -o $(Clib * \".\" * Libdl.dlext) -`, \"w\") do f\n",
        "    print(f, C_code)\n",
        "end\n",
        "\n",
        "# define a Julia function that calls the C function:\n",
        "c_sum(X::Array{Float64}) = ccall((\"c_sum\", Clib), Float64, (Csize_t, Ptr{Float64}), length(X), X)"
      ],
      "outputs": [
        {
          "output_type": "execute_result",
          "execution_count": 6,
          "data": {
            "text/plain": "c_sum (generic function with 1 method)"
          },
          "metadata": {}
        }
      ],
      "execution_count": 6,
      "metadata": {
        "execution": {
          "iopub.status.busy": "2020-09-06T14:49:14.299Z",
          "iopub.execute_input": "2020-09-06T14:49:14.322Z",
          "iopub.status.idle": "2020-09-06T14:49:15.428Z"
        }
      }
    },
    {
      "cell_type": "code",
      "source": [
        "c_sum(a)"
      ],
      "outputs": [
        {
          "output_type": "execute_result",
          "execution_count": 7,
          "data": {
            "text/plain": "5.0005894602552075e6"
          },
          "metadata": {}
        }
      ],
      "execution_count": 7,
      "metadata": {
        "execution": {
          "iopub.status.busy": "2020-09-06T14:49:20.594Z",
          "iopub.execute_input": "2020-09-06T14:49:20.610Z",
          "iopub.status.idle": "2020-09-06T14:49:21.255Z"
        }
      }
    },
    {
      "cell_type": "code",
      "source": [
        "c_sum(a) ≈ sum(a) # type \\approx and then <TAB> to get the ≈ symbolb"
      ],
      "outputs": [
        {
          "output_type": "execute_result",
          "execution_count": 8,
          "data": {
            "text/plain": "true"
          },
          "metadata": {}
        }
      ],
      "execution_count": 8,
      "metadata": {
        "execution": {
          "iopub.status.busy": "2020-09-06T14:49:22.924Z",
          "iopub.execute_input": "2020-09-06T14:49:22.941Z",
          "iopub.status.idle": "2020-09-06T14:49:23.166Z"
        }
      }
    },
    {
      "cell_type": "code",
      "source": [
        "c_sum(a) - sum(a)"
      ],
      "outputs": [
        {
          "output_type": "execute_result",
          "execution_count": 9,
          "data": {
            "text/plain": "3.5390257835388184e-8"
          },
          "metadata": {}
        }
      ],
      "execution_count": 9,
      "metadata": {
        "execution": {
          "iopub.status.busy": "2020-09-06T14:51:23.592Z",
          "iopub.execute_input": "2020-09-06T14:51:23.606Z",
          "iopub.status.idle": "2020-09-06T14:51:23.635Z"
        }
      }
    },
    {
      "cell_type": "code",
      "source": [
        "≈  # alias for the `isapprox` function"
      ],
      "outputs": [
        {
          "output_type": "execute_result",
          "execution_count": 10,
          "data": {
            "text/plain": "isapprox (generic function with 8 methods)"
          },
          "metadata": {}
        }
      ],
      "execution_count": 10,
      "metadata": {
        "execution": {
          "iopub.status.busy": "2020-09-06T14:51:28.922Z",
          "iopub.execute_input": "2020-09-06T14:51:28.939Z",
          "iopub.status.idle": "2020-09-06T14:51:28.997Z"
        }
      }
    },
    {
      "cell_type": "code",
      "source": [
        "?isapprox"
      ],
      "outputs": [
        {
          "output_type": "stream",
          "name": "stdout",
          "text": [
            "search: \u001b[0m\u001b[1mi\u001b[22m\u001b[0m\u001b[1ms\u001b[22m\u001b[0m\u001b[1ma\u001b[22m\u001b[0m\u001b[1mp\u001b[22m\u001b[0m\u001b[1mp\u001b[22m\u001b[0m\u001b[1mr\u001b[22m\u001b[0m\u001b[1mo\u001b[22m\u001b[0m\u001b[1mx\u001b[22m\n",
            "\n"
          ]
        },
        {
          "output_type": "execute_result",
          "execution_count": 11,
          "data": {
            "text/plain": "\u001b[36m  isapprox(x, y; rtol::Real=atol>0 ? 0 : √eps, atol::Real=0, nans::Bool=false, norm::Function)\u001b[39m\n\n  Inexact equality comparison: \u001b[36mtrue\u001b[39m if \u001b[36mnorm(x-y) <= max(atol,\n  rtol*max(norm(x), norm(y)))\u001b[39m. The default \u001b[36matol\u001b[39m is zero and the default \u001b[36mrtol\u001b[39m\n  depends on the types of \u001b[36mx\u001b[39m and \u001b[36my\u001b[39m. The keyword argument \u001b[36mnans\u001b[39m determines\n  whether or not NaN values are considered equal (defaults to false).\n\n  For real or complex floating-point values, if an \u001b[36matol > 0\u001b[39m is not specified,\n  \u001b[36mrtol\u001b[39m defaults to the square root of \u001b[36meps\u001b[39m of the type of \u001b[36mx\u001b[39m or \u001b[36my\u001b[39m, whichever is\n  bigger (least precise). This corresponds to requiring equality of about half\n  of the significand digits. Otherwise, e.g. for integer arguments or if an\n  \u001b[36matol > 0\u001b[39m is supplied, \u001b[36mrtol\u001b[39m defaults to zero.\n\n  \u001b[36mx\u001b[39m and \u001b[36my\u001b[39m may also be arrays of numbers, in which case \u001b[36mnorm\u001b[39m defaults to the\n  usual \u001b[36mnorm\u001b[39m function in LinearAlgebra, but may be changed by passing a\n  \u001b[36mnorm::Function\u001b[39m keyword argument. (For numbers, \u001b[36mnorm\u001b[39m is the same thing as\n  \u001b[36mabs\u001b[39m.) When \u001b[36mx\u001b[39m and \u001b[36my\u001b[39m are arrays, if \u001b[36mnorm(x-y)\u001b[39m is not finite (i.e. \u001b[36m±Inf\u001b[39m or\n  \u001b[36mNaN\u001b[39m), the comparison falls back to checking whether all elements of \u001b[36mx\u001b[39m and \u001b[36my\u001b[39m\n  are approximately equal component-wise.\n\n  The binary operator \u001b[36m≈\u001b[39m is equivalent to \u001b[36misapprox\u001b[39m with the default arguments,\n  and \u001b[36mx ≉ y\u001b[39m is equivalent to \u001b[36m!isapprox(x,y)\u001b[39m.\n\n  Note that \u001b[36mx ≈ 0\u001b[39m (i.e., comparing to zero with the default tolerances) is\n  equivalent to \u001b[36mx == 0\u001b[39m since the default \u001b[36matol\u001b[39m is \u001b[36m0\u001b[39m. In such cases, you should\n  either supply an appropriate \u001b[36matol\u001b[39m (or use \u001b[36mnorm(x) ≤ atol\u001b[39m) or rearrange your\n  code (e.g. use \u001b[36mx ≈ y\u001b[39m rather than \u001b[36mx - y ≈ 0\u001b[39m). It is not possible to pick a\n  nonzero \u001b[36matol\u001b[39m automatically because it depends on the overall scaling (the\n  \"units\") of your problem: for example, in \u001b[36mx - y ≈ 0\u001b[39m, \u001b[36matol=1e-9\u001b[39m is an\n  absurdly small tolerance if \u001b[36mx\u001b[39m is the radius of the Earth\n  (https://en.wikipedia.org/wiki/Earth_radius) in meters, but an absurdly\n  large tolerance if \u001b[36mx\u001b[39m is the radius of a Hydrogen atom\n  (https://en.wikipedia.org/wiki/Bohr_radius) in meters.\n\n\u001b[1m  Examples\u001b[22m\n\u001b[1m  ≡≡≡≡≡≡≡≡≡≡\u001b[22m\n\n\u001b[36m  julia> 0.1 ≈ (0.1 - 1e-10)\u001b[39m\n\u001b[36m  true\u001b[39m\n\u001b[36m  \u001b[39m\n\u001b[36m  julia> isapprox(10, 11; atol = 2)\u001b[39m\n\u001b[36m  true\u001b[39m\n\u001b[36m  \u001b[39m\n\u001b[36m  julia> isapprox([10.0^9, 1.0], [10.0^9, 2.0])\u001b[39m\n\u001b[36m  true\u001b[39m\n\u001b[36m  \u001b[39m\n\u001b[36m  julia> 1e-10 ≈ 0\u001b[39m\n\u001b[36m  false\u001b[39m\n\u001b[36m  \u001b[39m\n\u001b[36m  julia> isapprox(1e-10, 0, atol=1e-8)\u001b[39m\n\u001b[36m  true\u001b[39m",
            "text/markdown": "```\nisapprox(x, y; rtol::Real=atol>0 ? 0 : √eps, atol::Real=0, nans::Bool=false, norm::Function)\n```\n\nInexact equality comparison: `true` if `norm(x-y) <= max(atol, rtol*max(norm(x), norm(y)))`. The default `atol` is zero and the default `rtol` depends on the types of `x` and `y`. The keyword argument `nans` determines whether or not NaN values are considered equal (defaults to false).\n\nFor real or complex floating-point values, if an `atol > 0` is not specified, `rtol` defaults to the square root of [`eps`](@ref) of the type of `x` or `y`, whichever is bigger (least precise). This corresponds to requiring equality of about half of the significand digits. Otherwise, e.g. for integer arguments or if an `atol > 0` is supplied, `rtol` defaults to zero.\n\n`x` and `y` may also be arrays of numbers, in which case `norm` defaults to the usual `norm` function in LinearAlgebra, but may be changed by passing a `norm::Function` keyword argument. (For numbers, `norm` is the same thing as `abs`.) When `x` and `y` are arrays, if `norm(x-y)` is not finite (i.e. `±Inf` or `NaN`), the comparison falls back to checking whether all elements of `x` and `y` are approximately equal component-wise.\n\nThe binary operator `≈` is equivalent to `isapprox` with the default arguments, and `x ≉ y` is equivalent to `!isapprox(x,y)`.\n\nNote that `x ≈ 0` (i.e., comparing to zero with the default tolerances) is equivalent to `x == 0` since the default `atol` is `0`.  In such cases, you should either supply an appropriate `atol` (or use `norm(x) ≤ atol`) or rearrange your code (e.g. use `x ≈ y` rather than `x - y ≈ 0`).   It is not possible to pick a nonzero `atol` automatically because it depends on the overall scaling (the \"units\") of your problem: for example, in `x - y ≈ 0`, `atol=1e-9` is an absurdly small tolerance if `x` is the [radius of the Earth](https://en.wikipedia.org/wiki/Earth_radius) in meters, but an absurdly large tolerance if `x` is the [radius of a Hydrogen atom](https://en.wikipedia.org/wiki/Bohr_radius) in meters.\n\n# Examples\n\n```jldoctest\njulia> 0.1 ≈ (0.1 - 1e-10)\ntrue\n\njulia> isapprox(10, 11; atol = 2)\ntrue\n\njulia> isapprox([10.0^9, 1.0], [10.0^9, 2.0])\ntrue\n\njulia> 1e-10 ≈ 0\nfalse\n\njulia> isapprox(1e-10, 0, atol=1e-8)\ntrue\n```\n",
            "text/latex": "\\begin{verbatim}\nisapprox(x, y; rtol::Real=atol>0 ? 0 : √eps, atol::Real=0, nans::Bool=false, norm::Function)\n\\end{verbatim}\nInexact equality comparison: \\texttt{true} if \\texttt{norm(x-y) <= max(atol, rtol*max(norm(x), norm(y)))}. The default \\texttt{atol} is zero and the default \\texttt{rtol} depends on the types of \\texttt{x} and \\texttt{y}. The keyword argument \\texttt{nans} determines whether or not NaN values are considered equal (defaults to false).\n\nFor real or complex floating-point values, if an \\texttt{atol > 0} is not specified, \\texttt{rtol} defaults to the square root of \\href{@ref}{\\texttt{eps}} of the type of \\texttt{x} or \\texttt{y}, whichever is bigger (least precise). This corresponds to requiring equality of about half of the significand digits. Otherwise, e.g. for integer arguments or if an \\texttt{atol > 0} is supplied, \\texttt{rtol} defaults to zero.\n\n\\texttt{x} and \\texttt{y} may also be arrays of numbers, in which case \\texttt{norm} defaults to the usual \\texttt{norm} function in LinearAlgebra, but may be changed by passing a \\texttt{norm::Function} keyword argument. (For numbers, \\texttt{norm} is the same thing as \\texttt{abs}.) When \\texttt{x} and \\texttt{y} are arrays, if \\texttt{norm(x-y)} is not finite (i.e. \\texttt{±Inf} or \\texttt{NaN}), the comparison falls back to checking whether all elements of \\texttt{x} and \\texttt{y} are approximately equal component-wise.\n\nThe binary operator \\texttt{≈} is equivalent to \\texttt{isapprox} with the default arguments, and \\texttt{x ≉ y} is equivalent to \\texttt{!isapprox(x,y)}.\n\nNote that \\texttt{x ≈ 0} (i.e., comparing to zero with the default tolerances) is equivalent to \\texttt{x == 0} since the default \\texttt{atol} is \\texttt{0}.  In such cases, you should either supply an appropriate \\texttt{atol} (or use \\texttt{norm(x) ≤ atol}) or rearrange your code (e.g. use \\texttt{x ≈ y} rather than \\texttt{x - y ≈ 0}).   It is not possible to pick a nonzero \\texttt{atol} automatically because it depends on the overall scaling (the \"units\") of your problem: for example, in \\texttt{x - y ≈ 0}, \\texttt{atol=1e-9} is an absurdly small tolerance if \\texttt{x} is the \\href{https://en.wikipedia.org/wiki/Earth_radius}{radius of the Earth} in meters, but an absurdly large tolerance if \\texttt{x} is the \\href{https://en.wikipedia.org/wiki/Bohr_radius}{radius of a Hydrogen atom} in meters.\n\n\\section{Examples}\n\\begin{verbatim}\njulia> 0.1 ≈ (0.1 - 1e-10)\ntrue\n\njulia> isapprox(10, 11; atol = 2)\ntrue\n\njulia> isapprox([10.0^9, 1.0], [10.0^9, 2.0])\ntrue\n\njulia> 1e-10 ≈ 0\nfalse\n\njulia> isapprox(1e-10, 0, atol=1e-8)\ntrue\n\\end{verbatim}\n"
          },
          "metadata": {}
        }
      ],
      "execution_count": 11,
      "metadata": {
        "execution": {
          "iopub.status.busy": "2020-09-06T14:51:32.139Z",
          "iopub.execute_input": "2020-09-06T14:51:32.154Z",
          "iopub.status.idle": "2020-09-06T14:51:32.836Z"
        }
      }
    },
    {
      "cell_type": "markdown",
      "source": [
        "We can now benchmark the C code directly from Julia:"
      ],
      "metadata": {}
    },
    {
      "cell_type": "code",
      "source": [
        "c_bench = @benchmark c_sum($a)"
      ],
      "outputs": [
        {
          "output_type": "execute_result",
          "execution_count": 14,
          "data": {
            "text/plain": "BenchmarkTools.Trial: \n  memory estimate:  0 bytes\n  allocs estimate:  0\n  --------------\n  minimum time:     11.751 ms (0.00% GC)\n  median time:      12.205 ms (0.00% GC)\n  mean time:        12.155 ms (0.00% GC)\n  maximum time:     16.269 ms (0.00% GC)\n  --------------\n  samples:          412\n  evals/sample:     1"
          },
          "metadata": {}
        }
      ],
      "execution_count": 14,
      "metadata": {
        "execution": {
          "iopub.status.busy": "2020-09-06T14:53:09.795Z",
          "iopub.execute_input": "2020-09-06T14:53:09.810Z",
          "iopub.status.idle": "2020-09-06T14:53:21.620Z"
        }
      }
    },
    {
      "cell_type": "code",
      "source": [
        "println(\"C: Fastest time was $(minimum(c_bench.times) / 1e6) msec\")"
      ],
      "outputs": [
        {
          "output_type": "stream",
          "name": "stdout",
          "text": [
            "C: Fastest time was 11.750625 msec\n"
          ]
        }
      ],
      "execution_count": 16,
      "metadata": {
        "execution": {
          "iopub.status.busy": "2020-09-06T14:53:21.691Z",
          "iopub.execute_input": "2020-09-06T14:53:21.706Z",
          "iopub.status.idle": "2020-09-06T14:53:21.736Z"
        }
      }
    },
    {
      "cell_type": "code",
      "source": [
        "d = Dict()  # a \"dictionary\", i.e. an associative array\n",
        "d[\"C\"] = minimum(c_bench.times) / 1e6  # in milliseconds\n",
        "d"
      ],
      "outputs": [
        {
          "output_type": "execute_result",
          "execution_count": 17,
          "data": {
            "text/plain": "Dict{Any,Any} with 1 entry:\n  \"C\" => 11.7506"
          },
          "metadata": {}
        }
      ],
      "execution_count": 17,
      "metadata": {
        "execution": {
          "iopub.status.busy": "2020-09-06T14:53:41.511Z",
          "iopub.execute_input": "2020-09-06T14:53:41.530Z",
          "iopub.status.idle": "2020-09-06T14:53:42.351Z"
        }
      }
    },
    {
      "cell_type": "code",
      "source": [
        "using Plots\n",
        "gr()"
      ],
      "outputs": [
        {
          "output_type": "error",
          "ename": "EOFError",
          "evalue": "EOFError: read end of file",
          "traceback": [
            "EOFError: read end of file",
            "",
            "Stacktrace:",
            " [1] read(::IOStream, ::Type{Int64}) at ./iostream.jl:361",
            " [2] parse_cache_header(::IOStream) at ./loading.jl:1323",
            " [3] stale_cachefile(::String, ::String) at ./loading.jl:1402",
            " [4] _require_search_from_serialized(::Base.PkgId, ::String) at ./loading.jl:757",
            " [5] _require(::Base.PkgId) at ./loading.jl:1006",
            " [6] require(::Base.PkgId) at ./loading.jl:927",
            " [7] require(::Module, ::Symbol) at ./loading.jl:922",
            " [8] top-level scope at In[20]:1"
          ]
        }
      ],
      "execution_count": 20,
      "metadata": {
        "execution": {
          "iopub.status.busy": "2020-09-06T14:54:48.236Z",
          "iopub.execute_input": "2020-09-06T14:54:48.250Z",
          "iopub.status.idle": "2020-09-06T14:54:48.282Z"
        }
      }
    },
    {
      "cell_type": "code",
      "source": [
        "using Statistics # bring in statistical support for standard deviations\n",
        "t = c_bench.times / 1e6 # times in milliseconds\n",
        "m, σ = minimum(t), std(t)\n",
        "using StatsBase\n",
        "\n",
        "hist(t, bins=500,\n",
        "    xlim=(m - 0.01, m + σ),\n",
        "    xlabel=\"milliseconds\", ylabel=\"count\", label=\"\")\n",
        "# # 2. C with -ffast-math"
      ],
      "outputs": [
        {
          "output_type": "error",
          "ename": "UndefVarError",
          "evalue": "UndefVarError: hist not defined",
          "traceback": [
            "UndefVarError: hist not defined",
            "",
            "Stacktrace:",
            " [1] top-level scope at In[28]:5"
          ]
        }
      ],
      "execution_count": 28,
      "metadata": {
        "execution": {
          "iopub.status.busy": "2020-09-06T15:08:38.275Z",
          "iopub.execute_input": "2020-09-06T15:08:38.288Z",
          "iopub.status.idle": "2020-09-06T15:08:38.318Z"
        }
      }
    },
    {
      "cell_type": "code",
      "source": [
        "# If we allow C to re-arrange the floating point operations, then it'll vectorize with SIMD (single instruction, multiple data) instructions.\n",
        "const Clib_fastmath = tempname()   # make a temporary file\n",
        "\n",
        "# The same as above but with a -ffast-math flag added\n",
        "open(`gcc -fPIC -O3 -msse3 -xc -shared -ffast-math -o $(Clib_fastmath * \".\" * Libdl.dlext) -`, \"w\") do f\n",
        "    print(f, C_code)\n",
        "end\n",
        "\n",
        "# define a Julia function that calls the C function:\n",
        "c_sum_fastmath(X::Array{Float64}) = ccall((\"c_sum\", Clib_fastmath), Float64, (Csize_t, Ptr{Float64}), length(X), X)"
      ],
      "outputs": [],
      "execution_count": null,
      "metadata": {}
    },
    {
      "cell_type": "code",
      "source": [
        "c_fastmath_bench = @benchmark $c_sum_fastmath($a)"
      ],
      "outputs": [],
      "execution_count": null,
      "metadata": {}
    },
    {
      "cell_type": "code",
      "source": [
        "d[\"C -ffast-math\"] = minimum(c_fastmath_bench.times) / 1e6  # in milliseconds"
      ],
      "outputs": [],
      "execution_count": null,
      "metadata": {}
    },
    {
      "cell_type": "markdown",
      "source": [
        "# 3. Python's built in `sum`"
      ],
      "metadata": {}
    },
    {
      "cell_type": "markdown",
      "source": [
        "The `PyCall` package provides a Julia interface to Python:"
      ],
      "metadata": {}
    },
    {
      "cell_type": "code",
      "source": [
        "# using Pkg; Pkg.add(\"PyCall\")\n",
        "using PyCall"
      ],
      "outputs": [],
      "execution_count": null,
      "metadata": {}
    },
    {
      "cell_type": "code",
      "source": [
        "# get the Python built-in \"sum\" function:\n",
        "pysum = pybuiltin(\"sum\")"
      ],
      "outputs": [],
      "execution_count": null,
      "metadata": {}
    },
    {
      "cell_type": "code",
      "source": [
        "pysum(a)"
      ],
      "outputs": [],
      "execution_count": null,
      "metadata": {}
    },
    {
      "cell_type": "code",
      "source": [
        "pysum(a) ≈ sum(a)"
      ],
      "outputs": [],
      "execution_count": null,
      "metadata": {}
    },
    {
      "cell_type": "code",
      "source": [
        "py_list_bench = @benchmark $pysum($a)"
      ],
      "outputs": [],
      "execution_count": null,
      "metadata": {}
    },
    {
      "cell_type": "code",
      "source": [
        "d[\"Python built-in\"] = minimum(py_list_bench.times) / 1e6\n",
        "d"
      ],
      "outputs": [],
      "execution_count": null,
      "metadata": {}
    },
    {
      "cell_type": "markdown",
      "source": [
        "# 4. Python: `numpy`\n",
        "\n",
        "## Takes advantage of hardware \"SIMD\", but only works when it works.\n",
        "\n",
        "`numpy` is an optimized C library, callable from Python.\n",
        "It may be installed within Julia as follows:"
      ],
      "metadata": {}
    },
    {
      "cell_type": "code",
      "source": [
        "# using Pkg; Pkg.add(\"Conda\")\n",
        "using Conda"
      ],
      "outputs": [],
      "execution_count": null,
      "metadata": {}
    },
    {
      "cell_type": "code",
      "source": [
        "# Conda.add(\"numpy\")"
      ],
      "outputs": [],
      "execution_count": null,
      "metadata": {}
    },
    {
      "cell_type": "code",
      "source": [
        "numpy_sum = pyimport(\"numpy\")[\"sum\"]\n",
        "\n",
        "py_numpy_bench = @benchmark $numpy_sum($a)"
      ],
      "outputs": [],
      "execution_count": null,
      "metadata": {}
    },
    {
      "cell_type": "code",
      "source": [
        "numpy_sum(a)"
      ],
      "outputs": [],
      "execution_count": null,
      "metadata": {}
    },
    {
      "cell_type": "code",
      "source": [
        "numpy_sum(a) ≈ sum(a)"
      ],
      "outputs": [],
      "execution_count": null,
      "metadata": {}
    },
    {
      "cell_type": "code",
      "source": [
        "d[\"Python numpy\"] = minimum(py_numpy_bench.times) / 1e6\n",
        "d"
      ],
      "outputs": [],
      "execution_count": null,
      "metadata": {}
    },
    {
      "cell_type": "markdown",
      "source": [
        "# 5. Python, hand-written"
      ],
      "metadata": {}
    },
    {
      "cell_type": "code",
      "source": [
        "py\"\"\"\n",
        "def py_sum(A):\n",
        "    s = 0.0\n",
        "    for a in A:\n",
        "        s += a\n",
        "    return s\n",
        "\"\"\"\n",
        "\n",
        "sum_py = py\"py_sum\""
      ],
      "outputs": [],
      "execution_count": null,
      "metadata": {}
    },
    {
      "cell_type": "code",
      "source": [
        "py_hand = @benchmark $sum_py($a)"
      ],
      "outputs": [],
      "execution_count": null,
      "metadata": {}
    },
    {
      "cell_type": "code",
      "source": [
        "sum_py(a)"
      ],
      "outputs": [],
      "execution_count": null,
      "metadata": {}
    },
    {
      "cell_type": "code",
      "source": [
        "sum_py(a) ≈ sum(a)"
      ],
      "outputs": [],
      "execution_count": null,
      "metadata": {}
    },
    {
      "cell_type": "code",
      "source": [
        "d[\"Python hand-written\"] = minimum(py_hand.times) / 1e6\n",
        "d"
      ],
      "outputs": [],
      "execution_count": null,
      "metadata": {}
    },
    {
      "cell_type": "markdown",
      "source": [
        "# 6. Julia (built-in)\n",
        "\n",
        "## Written directly in Julia, not in C!"
      ],
      "metadata": {}
    },
    {
      "cell_type": "code",
      "source": [
        "@which sum(a)"
      ],
      "outputs": [],
      "execution_count": null,
      "metadata": {}
    },
    {
      "cell_type": "code",
      "source": [
        "j_bench = @benchmark sum($a)"
      ],
      "outputs": [],
      "execution_count": null,
      "metadata": {}
    },
    {
      "cell_type": "code",
      "source": [
        "d[\"Julia built-in\"] = minimum(j_bench.times) / 1e6\n",
        "d"
      ],
      "outputs": [],
      "execution_count": null,
      "metadata": {}
    },
    {
      "cell_type": "markdown",
      "source": [
        "# 7. Julia (hand-written)"
      ],
      "metadata": {}
    },
    {
      "cell_type": "code",
      "source": [
        "function mysum(A)\n",
        "    s = 0.0 # s = zero(eltype(a))\n",
        "    for a in A\n",
        "        s += a\n",
        "    end\n",
        "    s\n",
        "end"
      ],
      "outputs": [],
      "execution_count": null,
      "metadata": {}
    },
    {
      "cell_type": "code",
      "source": [
        "j_bench_hand = @benchmark mysum($a)"
      ],
      "outputs": [],
      "execution_count": null,
      "metadata": {}
    },
    {
      "cell_type": "code",
      "source": [
        "d[\"Julia hand-written\"] = minimum(j_bench_hand.times) / 1e6\n",
        "d"
      ],
      "outputs": [],
      "execution_count": null,
      "metadata": {}
    },
    {
      "cell_type": "markdown",
      "source": [
        "# 8. Julia (hand-written w. simd)"
      ],
      "metadata": {}
    },
    {
      "cell_type": "code",
      "source": [
        "function mysum_simd(A)\n",
        "    s = 0.0 # s = zero(eltype(A))\n",
        "    @simd for a in A\n",
        "        s += a\n",
        "    end\n",
        "    s\n",
        "end"
      ],
      "outputs": [],
      "execution_count": null,
      "metadata": {}
    },
    {
      "cell_type": "code",
      "source": [
        "j_bench_hand_simd = @benchmark mysum_simd($a)"
      ],
      "outputs": [],
      "execution_count": null,
      "metadata": {}
    },
    {
      "cell_type": "code",
      "source": [
        "mysum_simd(a)"
      ],
      "outputs": [],
      "execution_count": null,
      "metadata": {}
    },
    {
      "cell_type": "code",
      "source": [
        "d[\"Julia hand-written simd\"] = minimum(j_bench_hand_simd.times) / 1e6\n",
        "d"
      ],
      "outputs": [],
      "execution_count": null,
      "metadata": {}
    },
    {
      "cell_type": "markdown",
      "source": [
        "# Summary"
      ],
      "metadata": {}
    },
    {
      "cell_type": "code",
      "source": [
        "for (key, value) in sort(collect(d), by=last)\n",
        "    println(rpad(key, 25, \".\"), lpad(round(value; digits=1), 6, \".\"))\n",
        "end"
      ],
      "outputs": [],
      "execution_count": null,
      "metadata": {}
    }
  ],
  "metadata": {
    "language_info": {
      "file_extension": ".jl",
      "name": "julia",
      "mimetype": "application/julia",
      "version": "1.4.2"
    },
    "kernelspec": {
      "name": "julia-1.0",
      "display_name": "Julia 1.0.3",
      "language": "julia"
    },
    "nteract": {
      "version": "0.25.0"
    }
  },
  "nbformat": 4,
  "nbformat_minor": 3
}