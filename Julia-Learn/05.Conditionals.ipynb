{
  "cells": [
    {
      "cell_type": "markdown",
      "source": [
        "# Conditionals\n",
        "\n",
        "#### with the `if` keyword\n",
        "In Julia, the syntax\n",
        "\n",
        "```julia\n",
        "if *condition 1*\n",
        "    *option 1*\n",
        "elseif *condition 2*\n",
        "    *option 2*\n",
        "else\n",
        "    *option 3*\n",
        "end\n",
        "```\n",
        "\n",
        "allows us to conditionally evaluate one of our options.\n",
        "<br><br>\n",
        "For example, we might want to implement the FizzBuzz test: given a number, N, print \"Fizz\" if N is divisible by 3, \"Buzz\" if N is divisible by 5, and \"FizzBuzz\" if N is divisible by 3 and 5. Otherwise just print the number itself! Enter your choice for `N` here:"
      ],
      "metadata": {}
    },
    {
      "cell_type": "code",
      "source": [
        "N =5"
      ],
      "outputs": [
        {
          "output_type": "execute_result",
          "execution_count": 10,
          "data": {
            "text/plain": "5"
          },
          "metadata": {}
        }
      ],
      "execution_count": 10,
      "metadata": {
        "execution": {
          "iopub.status.busy": "2020-09-05T06:31:13.745Z",
          "iopub.execute_input": "2020-09-05T06:31:13.749Z",
          "iopub.status.idle": "2020-09-05T06:31:13.760Z"
        }
      }
    },
    {
      "cell_type": "code",
      "source": [
        "if (N % 3 == 0) && (N % 5 == 0) # `&&` means \"AND\"; % computes the remainder after division\n",
        "    println(\"FizzBuzz\")\n",
        "elseif N % 3 == 0\n",
        "    println(\"Fizz\")\n",
        "elseif N % 5 == 0\n",
        "    println(\"Buzz\")\n",
        "else\n",
        "    println(N)\n",
        "end"
      ],
      "outputs": [
        {
          "output_type": "stream",
          "name": "stdout",
          "text": [
            "Buzz\n"
          ]
        }
      ],
      "execution_count": 11,
      "metadata": {
        "execution": {
          "iopub.status.busy": "2020-09-05T06:31:14.606Z",
          "iopub.execute_input": "2020-09-05T06:31:14.613Z",
          "iopub.status.idle": "2020-09-05T06:31:14.625Z"
        }
      }
    },
    {
      "cell_type": "markdown",
      "source": [
        "#### with ternary operators\n",
        "\n",
        "For this last block, we could instead use the ternary operator with the syntax\n",
        "\n",
        "```julia\n",
        "a ? b : c\n",
        "```\n",
        "\n",
        "which equates to\n",
        "\n",
        "```julia\n",
        "if a\n",
        "    b\n",
        "else\n",
        "    c\n",
        "end\n",
        "```"
      ],
      "metadata": {}
    },
    {
      "cell_type": "markdown",
      "source": [
        "Now let's say we want to return the larger of two numbers. Give `x` and `y` values here:"
      ],
      "metadata": {}
    },
    {
      "cell_type": "code",
      "source": [
        "x =9\n",
        "y =30"
      ],
      "outputs": [
        {
          "output_type": "execute_result",
          "execution_count": 12,
          "data": {
            "text/plain": "30"
          },
          "metadata": {}
        }
      ],
      "execution_count": 12,
      "metadata": {
        "execution": {
          "iopub.status.busy": "2020-09-05T06:31:44.988Z",
          "iopub.execute_input": "2020-09-05T06:31:44.992Z",
          "iopub.status.idle": "2020-09-05T06:31:45.003Z"
        }
      }
    },
    {
      "cell_type": "markdown",
      "source": [
        "Using the `if` and `else` keywords, we might write:"
      ],
      "metadata": {}
    },
    {
      "cell_type": "code",
      "source": [
        "if x > y\n",
        "    x\n",
        "else\n",
        "    y\n",
        "end"
      ],
      "outputs": [
        {
          "output_type": "execute_result",
          "execution_count": 13,
          "data": {
            "text/plain": "30"
          },
          "metadata": {}
        }
      ],
      "execution_count": 13,
      "metadata": {
        "execution": {
          "iopub.status.busy": "2020-09-05T06:31:46.203Z",
          "iopub.execute_input": "2020-09-05T06:31:46.207Z",
          "iopub.status.idle": "2020-09-05T06:31:46.234Z"
        }
      }
    },
    {
      "cell_type": "markdown",
      "source": [
        "and as a ternary operator, the conditional looks like this:"
      ],
      "metadata": {}
    },
    {
      "cell_type": "code",
      "source": [
        "(x > y) ? x : y"
      ],
      "outputs": [
        {
          "output_type": "execute_result",
          "execution_count": 14,
          "data": {
            "text/plain": "30"
          },
          "metadata": {}
        }
      ],
      "execution_count": 14,
      "metadata": {
        "execution": {
          "iopub.status.busy": "2020-09-05T06:31:48.674Z",
          "iopub.execute_input": "2020-09-05T06:31:48.686Z",
          "iopub.status.idle": "2020-09-05T06:31:48.698Z"
        }
      }
    },
    {
      "cell_type": "markdown",
      "source": [
        "#### with short-circuit evaluation\n",
        "\n",
        "We've already seen expressions with the syntax\n",
        "```julia\n",
        "a && b\n",
        "```\n",
        "to return true if both `a` and `b` are true. Of course, if `a` is false, Julia doesn't even need to know the value of `b` in order to determine that the overall result will be false. So Julia doesn't even need to check what `b` is; it can just \"short-circuit\" and immediately return `false`.  The second argument `b` might be a more complicated expression like a function call with a side-effect, in which case it won't even be called:"
      ],
      "metadata": {}
    },
    {
      "cell_type": "code",
      "source": [
        "false && (println(\"hi\"); true)"
      ],
      "outputs": [
        {
          "output_type": "execute_result",
          "execution_count": 15,
          "data": {
            "text/plain": "false"
          },
          "metadata": {}
        }
      ],
      "execution_count": 15,
      "metadata": {
        "execution": {
          "iopub.status.busy": "2020-09-05T06:32:27.836Z",
          "iopub.execute_input": "2020-09-05T06:32:27.899Z",
          "iopub.status.idle": "2020-09-05T06:32:28.106Z"
        }
      }
    },
    {
      "cell_type": "code",
      "source": [
        "true && (println(\"hi\"); true)"
      ],
      "outputs": [
        {
          "output_type": "stream",
          "name": "stdout",
          "text": [
            "hi\n"
          ]
        },
        {
          "output_type": "execute_result",
          "execution_count": 16,
          "data": {
            "text/plain": "true"
          },
          "metadata": {}
        }
      ],
      "execution_count": 16,
      "metadata": {
        "execution": {
          "iopub.status.busy": "2020-09-05T06:32:29.612Z",
          "iopub.execute_input": "2020-09-05T06:32:29.617Z",
          "iopub.status.idle": "2020-09-05T06:32:29.630Z"
        }
      }
    },
    {
      "cell_type": "markdown",
      "source": [
        "On the other hand, if `a` is true, Julia knows it can just return the value of `b` as the overall expression. This means that `b` doesn't necessarily need evaluate to `true` or `false`!  `b` could even be an error:"
      ],
      "metadata": {}
    },
    {
      "cell_type": "code",
      "source": [
        "(x > 0) && error(\"x cannot be greater than 0\")"
      ],
      "outputs": [
        {
          "output_type": "error",
          "ename": "ErrorException",
          "evalue": "x cannot be greater than 0",
          "traceback": [
            "x cannot be greater than 0",
            "",
            "Stacktrace:",
            " [1] error(::String) at .\\error.jl:33",
            " [2] top-level scope at In[17]:1"
          ]
        }
      ],
      "execution_count": 17,
      "metadata": {
        "execution": {
          "iopub.status.busy": "2020-09-05T06:33:00.137Z",
          "iopub.execute_input": "2020-09-05T06:33:00.144Z",
          "iopub.status.idle": "2020-09-05T06:33:00.399Z"
        }
      }
    },
    {
      "cell_type": "markdown",
      "source": [
        "Similarly, check out the `||` operator, which also uses short-circuit evaluation to perform the \"or\" operation."
      ],
      "metadata": {}
    },
    {
      "cell_type": "code",
      "source": [
        "true || println(\"hi\")"
      ],
      "outputs": [
        {
          "output_type": "execute_result",
          "execution_count": 18,
          "data": {
            "text/plain": "true"
          },
          "metadata": {}
        }
      ],
      "execution_count": 18,
      "metadata": {
        "execution": {
          "iopub.status.busy": "2020-09-05T06:33:26.011Z",
          "iopub.execute_input": "2020-09-05T06:33:26.018Z",
          "iopub.status.idle": "2020-09-05T06:33:26.030Z"
        }
      }
    },
    {
      "cell_type": "markdown",
      "source": [
        "and"
      ],
      "metadata": {}
    },
    {
      "cell_type": "code",
      "source": [
        "false || println(\"hi\")"
      ],
      "outputs": [
        {
          "output_type": "stream",
          "name": "stdout",
          "text": [
            "hi\n"
          ]
        }
      ],
      "execution_count": 19,
      "metadata": {
        "execution": {
          "iopub.status.busy": "2020-09-05T06:33:33.036Z",
          "iopub.execute_input": "2020-09-05T06:33:33.042Z",
          "iopub.status.idle": "2020-09-05T06:33:33.053Z"
        }
      }
    },
    {
      "cell_type": "markdown",
      "source": [
        "### Exercises\n",
        "\n",
        "#### 5.1\n",
        "Write a conditional statement that prints a number if the number is even and the string \"odd\" if the number is odd."
      ],
      "metadata": {}
    },
    {
      "cell_type": "code",
      "source": [
        "x = 101\n",
        "x % 2 == 0 ? println(x) : println(\"odd\")"
      ],
      "outputs": [
        {
          "output_type": "stream",
          "name": "stdout",
          "text": [
            "odd\n"
          ]
        }
      ],
      "execution_count": 21,
      "metadata": {
        "collapsed": true,
        "jupyter": {
          "source_hidden": false,
          "outputs_hidden": false
        },
        "nteract": {
          "transient": {
            "deleting": false
          }
        },
        "execution": {
          "iopub.status.busy": "2020-09-05T06:46:44.238Z",
          "iopub.execute_input": "2020-09-05T06:46:44.243Z",
          "iopub.status.idle": "2020-09-05T06:46:44.253Z"
        }
      }
    },
    {
      "cell_type": "markdown",
      "source": [
        "#### 5.2\n",
        "Rewrite the code from 5.1 using a ternary operator."
      ],
      "metadata": {}
    }
  ],
  "metadata": {
    "language_info": {
      "file_extension": ".jl",
      "name": "julia",
      "mimetype": "application/julia",
      "version": "1.4.2"
    },
    "kernelspec": {
      "name": "julia-1.0",
      "display_name": "Julia 1.0.3",
      "language": "julia"
    },
    "nteract": {
      "version": "0.25.0"
    }
  },
  "nbformat": 4,
  "nbformat_minor": 3
}