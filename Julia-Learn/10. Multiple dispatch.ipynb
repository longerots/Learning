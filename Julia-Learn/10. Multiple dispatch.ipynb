{
  "cells": [
    {
      "cell_type": "markdown",
      "source": [
        "# Multiple dispatch"
      ],
      "metadata": {}
    },
    {
      "cell_type": "markdown",
      "source": [
        "In this notebook we'll explore **multiple dispatch**, which is a key feature of Julia.\n",
        "\n",
        "Multiple dispatch makes software *generic* and *fast*!\n",
        "\n",
        "#### Starting with the familiar\n",
        "\n",
        "To understand multiple dispatch in Julia, let's start with what we've already seen.\n",
        "\n",
        "We can declare functions in Julia without giving Julia any information about the types of the input arguments that function will receive:"
      ],
      "metadata": {}
    },
    {
      "cell_type": "code",
      "source": [
        "f(x) = x^2"
      ],
      "outputs": [
        {
          "output_type": "execute_result",
          "execution_count": 1,
          "data": {
            "text/plain": "f (generic function with 1 method)"
          },
          "metadata": {}
        }
      ],
      "execution_count": 1,
      "metadata": {
        "execution": {
          "iopub.status.busy": "2020-09-06T09:01:15.627Z",
          "iopub.execute_input": "2020-09-06T09:01:16.379Z",
          "iopub.status.idle": "2020-09-06T09:01:17.289Z"
        }
      }
    },
    {
      "cell_type": "markdown",
      "source": [
        "and then Julia will determine on its own which input argument types make sense and which do not:"
      ],
      "metadata": {}
    },
    {
      "cell_type": "code",
      "source": [
        "f(10)"
      ],
      "outputs": [
        {
          "output_type": "execute_result",
          "execution_count": 2,
          "data": {
            "text/plain": "100"
          },
          "metadata": {}
        }
      ],
      "execution_count": 2,
      "metadata": {
        "execution": {
          "iopub.status.busy": "2020-09-06T09:02:07.778Z",
          "iopub.execute_input": "2020-09-06T09:02:07.788Z",
          "iopub.status.idle": "2020-09-06T09:02:07.975Z"
        }
      }
    },
    {
      "cell_type": "code",
      "source": [
        "f([1, 2, 3])"
      ],
      "outputs": [
        {
          "output_type": "error",
          "ename": "MethodError",
          "evalue": "MethodError: no method matching ^(::Array{Int64,1}, ::Int64)\nClosest candidates are:\n  ^(!Matched::Float16, ::Integer) at math.jl:885\n  ^(!Matched::Regex, ::Integer) at regex.jl:712\n  ^(!Matched::Missing, ::Integer) at missing.jl:155\n  ...",
          "traceback": [
            "MethodError: no method matching ^(::Array{Int64,1}, ::Int64)\nClosest candidates are:\n  ^(!Matched::Float16, ::Integer) at math.jl:885\n  ^(!Matched::Regex, ::Integer) at regex.jl:712\n  ^(!Matched::Missing, ::Integer) at missing.jl:155\n  ...",
            "",
            "Stacktrace:",
            " [1] macro expansion at .\\none:0 [inlined]",
            " [2] literal_pow at .\\none:0 [inlined]",
            " [3] f(::Array{Int64,1}) at .\\In[1]:1",
            " [4] top-level scope at In[3]:1"
          ]
        }
      ],
      "execution_count": 3,
      "metadata": {
        "execution": {
          "iopub.status.busy": "2020-09-06T09:02:09.230Z",
          "iopub.execute_input": "2020-09-06T09:02:09.242Z",
          "iopub.status.idle": "2020-09-06T09:02:09.507Z"
        }
      }
    },
    {
      "cell_type": "markdown",
      "source": [
        "#### Specifying the types of our input arguments\n",
        "\n",
        "However, we also have the *option* to tell Julia explicitly what types our input arguments are allowed to have.\n",
        "\n",
        "For example, let's write a function `foo` that only takes strings as inputs."
      ],
      "metadata": {}
    },
    {
      "cell_type": "code",
      "source": [
        "foo(x::String, y::String) = println(\"My inputs x and y are both strings!\")"
      ],
      "outputs": [
        {
          "output_type": "execute_result",
          "execution_count": 4,
          "data": {
            "text/plain": "foo (generic function with 1 method)"
          },
          "metadata": {}
        }
      ],
      "execution_count": 4,
      "metadata": {
        "execution": {
          "iopub.status.busy": "2020-09-06T09:07:07.442Z",
          "iopub.execute_input": "2020-09-06T09:07:07.456Z",
          "iopub.status.idle": "2020-09-06T09:07:07.511Z"
        }
      }
    },
    {
      "cell_type": "markdown",
      "source": [
        "We see here that in order to restrict the type of `x` and `y` to `String`s, we just follow the input argument name by a double colon and the keyword `String`.\n",
        "\n",
        "Now we'll see that `foo` works on `String`s and doesn't work on other input argument types."
      ],
      "metadata": {}
    },
    {
      "cell_type": "code",
      "source": [
        "foo(\"hello\", \"hi!\")"
      ],
      "outputs": [
        {
          "output_type": "stream",
          "name": "stdout",
          "text": [
            "My inputs x and y are both strings!\n"
          ]
        }
      ],
      "execution_count": 5,
      "metadata": {
        "execution": {
          "iopub.status.busy": "2020-09-06T09:08:21.744Z",
          "iopub.execute_input": "2020-09-06T09:08:21.756Z",
          "iopub.status.idle": "2020-09-06T09:08:21.829Z"
        }
      }
    },
    {
      "cell_type": "code",
      "source": [
        "foo(3, 4)"
      ],
      "outputs": [
        {
          "output_type": "error",
          "ename": "MethodError",
          "evalue": "MethodError: no method matching foo(::Int64, ::Int64)",
          "traceback": [
            "MethodError: no method matching foo(::Int64, ::Int64)",
            "",
            "Stacktrace:",
            " [1] top-level scope at In[6]:1"
          ]
        }
      ],
      "execution_count": 6,
      "metadata": {
        "execution": {
          "iopub.status.busy": "2020-09-06T09:08:28.386Z",
          "iopub.execute_input": "2020-09-06T09:08:28.396Z",
          "iopub.status.idle": "2020-09-06T09:08:28.414Z"
        }
      }
    },
    {
      "cell_type": "markdown",
      "source": [
        "To get `foo` to work on integer (`Int`) inputs, let's tack `::Int` onto our input arguments when we declare `foo`."
      ],
      "metadata": {}
    },
    {
      "cell_type": "code",
      "source": [
        "foo(x::Int, y::Int) = println(\"My inputs x and y are both integers!\")"
      ],
      "outputs": [],
      "execution_count": null,
      "metadata": {}
    },
    {
      "cell_type": "code",
      "source": [
        "foo(3, 4)"
      ],
      "outputs": [],
      "execution_count": null,
      "metadata": {}
    },
    {
      "cell_type": "markdown",
      "source": [
        "Now `foo` works on integers! But look, `foo` also still works when `x` and `y` are strings!"
      ],
      "metadata": {}
    },
    {
      "cell_type": "code",
      "source": [
        "foo(\"hello\", \"hi!\")"
      ],
      "outputs": [],
      "execution_count": null,
      "metadata": {}
    },
    {
      "cell_type": "markdown",
      "source": [
        "This is starting to get to the heart of multiple dispatch. When we declared\n",
        "\n",
        "```julia\n",
        "foo(x::Int, y::Int) = println(\"My inputs x and y are both integers!\")\n",
        "```\n",
        "we didn't overwrite or replace\n",
        "```julia\n",
        "foo(y::String, y::String)\n",
        "```\n",
        "Instead, we just added an additional ***method*** to the ***generic function*** called `foo`.\n",
        "\n",
        "A ***generic function*** is the abstract concept associated with a particular operation.\n",
        "\n",
        "For example, the generic function `+` represents the concept of addition.\n",
        "\n",
        "A ***method*** is a specific implementation of a generic function for *particular argument types*.\n",
        "\n",
        "For example, `+` has methods that accept floating point numbers, integers, matrices, etc.\n",
        "\n",
        "We can use the `methods` to see how many methods there are for `foo`."
      ],
      "metadata": {}
    },
    {
      "cell_type": "code",
      "source": [
        "methods(foo)"
      ],
      "outputs": [],
      "execution_count": null,
      "metadata": {}
    },
    {
      "cell_type": "markdown",
      "source": [
        "Aside: how many methods do you think there are for addition?"
      ],
      "metadata": {}
    },
    {
      "cell_type": "code",
      "source": [
        "methods(+)"
      ],
      "outputs": [],
      "execution_count": null,
      "metadata": {}
    },
    {
      "cell_type": "markdown",
      "source": [
        "So, we now can call `foo` on integers or strings. When you call `foo` on a particular set of arguments, Julia will infer the types of the inputs and dispatch the appropriate method. *This* is multiple dispatch.\n",
        "\n",
        "Multiple dispatch makes our code generic and fast. Our code can be generic and flexible because we can write code in terms of abstract operations such as addition and multiplication, rather than in terms of specific implementations. At the same time, our code runs quickly because Julia is able to call efficient methods for the relevant types.\n",
        "\n",
        "To see which method is being dispatched when we call a generic function, we can use the @which macro:"
      ],
      "metadata": {}
    },
    {
      "cell_type": "code",
      "source": [
        "@which foo(3, 4)"
      ],
      "outputs": [],
      "execution_count": null,
      "metadata": {}
    },
    {
      "cell_type": "markdown",
      "source": [
        "Let's see what happens when we use `@which` with the addition operator!"
      ],
      "metadata": {}
    },
    {
      "cell_type": "code",
      "source": [
        "@which 3.0 + 3.0"
      ],
      "outputs": [],
      "execution_count": null,
      "metadata": {}
    },
    {
      "cell_type": "markdown",
      "source": [
        "And we can continue to add other methods to our generic function `foo`. Let's add one that takes the ***abstract type*** `Number`, which includes subtypes such as `Int`, `Float64`, and other objects you would think of as numbers:"
      ],
      "metadata": {}
    },
    {
      "cell_type": "code",
      "source": [
        "foo(x::Number, y::Number) = println(\"My inputs x and y are both numbers!\")"
      ],
      "outputs": [],
      "execution_count": null,
      "metadata": {}
    },
    {
      "cell_type": "markdown",
      "source": [
        "This method for `foo` will work on, for example, floating point numbers:"
      ],
      "metadata": {}
    },
    {
      "cell_type": "code",
      "source": [
        "foo(3.0, 4.0)"
      ],
      "outputs": [],
      "execution_count": null,
      "metadata": {}
    },
    {
      "cell_type": "markdown",
      "source": [
        "We can also add a fallback, duck-typed method for `foo` that takes inputs of any type:"
      ],
      "metadata": {}
    },
    {
      "cell_type": "code",
      "source": [
        "foo(x, y) = println(\"I accept inputs of any type!\")"
      ],
      "outputs": [],
      "execution_count": null,
      "metadata": {}
    },
    {
      "cell_type": "markdown",
      "source": [
        "Given the methods we've already written for `foo` so far, this method will be called whenever we pass non-numbers to `foo`:"
      ],
      "metadata": {}
    },
    {
      "cell_type": "code",
      "source": [
        "v = rand(3)\n",
        "foo(v, v)"
      ],
      "outputs": [],
      "execution_count": null,
      "metadata": {}
    },
    {
      "cell_type": "markdown",
      "source": [
        "### Exercises\n",
        "\n",
        "#### 9.1\n",
        "\n",
        "Extend the function `foo`, adding a method that takes only one input argument, which is of type `Bool`, and returns \"foo with one boolean!\""
      ],
      "metadata": {
        "collapsed": true
      }
    },
    {
      "cell_type": "code",
      "source": [],
      "outputs": [],
      "execution_count": null,
      "metadata": {}
    },
    {
      "cell_type": "markdown",
      "source": [
        "#### 9.2\n",
        "\n",
        "Check that the method being dispatched when you execute \n",
        "```julia\n",
        "foo(true)\n",
        "```\n",
        "is the one you wrote."
      ],
      "metadata": {}
    },
    {
      "cell_type": "code",
      "source": [],
      "outputs": [],
      "execution_count": null,
      "metadata": {}
    },
    {
      "cell_type": "code",
      "source": [
        "@assert foo(true) == \"foo with one boolean!\""
      ],
      "outputs": [],
      "execution_count": null,
      "metadata": {
        "deletable": false,
        "editable": false,
        "hide_input": true,
        "nbgrader": {
          "checksum": "af0db7a08de56491e57f4c882296a00f",
          "grade": true,
          "grade_id": "cell-14072e60ae07c1a2",
          "locked": true,
          "points": 1,
          "schema_version": 1,
          "solution": false
        }
      }
    },
    {
      "cell_type": "markdown",
      "source": [
        "Please click on `Validate` on the top, once you are done with the exercises."
      ],
      "metadata": {}
    }
  ],
  "metadata": {
    "anaconda-cloud": {},
    "kernelspec": {
      "display_name": "Julia 1.0.0",
      "language": "julia",
      "name": "julia-1.0"
    },
    "language": "Julia",
    "language_info": {
      "file_extension": ".jl",
      "name": "julia",
      "mimetype": "application/julia",
      "version": "1.4.2"
    },
    "toc": {
      "nav_menu": {
        "height": "119px",
        "width": "251px"
      },
      "navigate_menu": true,
      "number_sections": true,
      "sideBar": true,
      "threshold": "2",
      "toc_cell": false,
      "toc_section_display": "block",
      "toc_window_display": false
    },
    "nteract": {
      "version": "0.25.0"
    }
  },
  "nbformat": 4,
  "nbformat_minor": 1
}