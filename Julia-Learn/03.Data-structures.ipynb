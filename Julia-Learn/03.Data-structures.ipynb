{
  "cells": [
    {
      "cell_type": "markdown",
      "source": [
        "# Data structures\n",
        "\n",
        "Once we start working with many pieces of data at once, it will be convenient for us to store data in structures like arrays or dictionaries (rather than just relying on variables).<br>\n",
        "\n",
        "Types of data structures covered:\n",
        "1. Tuples\n",
        "2. Dictionaries\n",
        "3. Arrays\n",
        "\n",
        "<br>\n",
        "As an overview, tuples and arrays are both ordered sequences of elements (so we can index into them). Dictionaries and arrays are both mutable.\n",
        "We'll explain this more below!"
      ],
      "metadata": {}
    },
    {
      "cell_type": "markdown",
      "source": [
        "## Tuples\n",
        "\n",
        "We can create a tuple by enclosing an ordered collection of elements in `( )`.\n",
        "\n",
        "Syntax: <br>\n",
        "```julia\n",
        "(item1, item2, ...)```"
      ],
      "metadata": {}
    },
    {
      "cell_type": "code",
      "source": [
        "myfavoriteanimals = (\"penguins\", \"cats\", \"sugargliders\")"
      ],
      "outputs": [
        {
          "output_type": "execute_result",
          "execution_count": 1,
          "data": {
            "text/plain": "(\"penguins\", \"cats\", \"sugargliders\")"
          },
          "metadata": {}
        }
      ],
      "execution_count": 1,
      "metadata": {
        "execution": {
          "iopub.status.busy": "2020-09-05T01:38:33.343Z",
          "iopub.execute_input": "2020-09-05T01:38:34.165Z",
          "iopub.status.idle": "2020-09-05T01:38:35.159Z"
        }
      }
    },
    {
      "cell_type": "markdown",
      "source": [
        "We can index into this tuple,"
      ],
      "metadata": {}
    },
    {
      "cell_type": "code",
      "source": [
        "myfavoriteanimals[1]"
      ],
      "outputs": [
        {
          "output_type": "execute_result",
          "execution_count": 2,
          "data": {
            "text/plain": "\"penguins\""
          },
          "metadata": {}
        }
      ],
      "execution_count": 2,
      "metadata": {
        "execution": {
          "iopub.status.busy": "2020-09-05T01:39:04.116Z",
          "iopub.execute_input": "2020-09-05T01:39:04.142Z",
          "iopub.status.idle": "2020-09-05T01:39:04.349Z"
        }
      }
    },
    {
      "cell_type": "markdown",
      "source": [
        "but since tuples are immutable, we can't update it"
      ],
      "metadata": {}
    },
    {
      "cell_type": "code",
      "source": [
        "myfavoriteanimals[1] = \"otters\""
      ],
      "outputs": [
        {
          "output_type": "error",
          "ename": "MethodError",
          "evalue": "MethodError: no method matching setindex!(::Tuple{String,String,String}, ::String, ::Int64)",
          "traceback": [
            "MethodError: no method matching setindex!(::Tuple{String,String,String}, ::String, ::Int64)",
            "",
            "Stacktrace:",
            " [1] top-level scope at In[3]:1"
          ]
        }
      ],
      "execution_count": 3,
      "metadata": {
        "execution": {
          "iopub.status.busy": "2020-09-05T01:39:08.185Z",
          "iopub.execute_input": "2020-09-05T01:39:08.199Z",
          "iopub.status.idle": "2020-09-05T01:39:08.407Z"
        }
      }
    },
    {
      "cell_type": "markdown",
      "source": [
        "## Now in 1.0: NamedTuples\n",
        "\n",
        "As you might guess, `NamedTuple`s are just like `Tuple`s except that each element additionally has a name! They have a special syntax using `=` inside a tuple:\n",
        "\n",
        "```julia\n",
        "(name1 = item1, name2 = item2, ...)\n",
        "```"
      ],
      "metadata": {}
    },
    {
      "cell_type": "code",
      "source": [
        "myfavoriteanimals = (bird = \"penguins\", mammal = \"cats\", marsupial = \"sugargliders\")"
      ],
      "outputs": [
        {
          "output_type": "execute_result",
          "execution_count": 4,
          "data": {
            "text/plain": "(bird = \"penguins\", mammal = \"cats\", marsupial = \"sugargliders\")"
          },
          "metadata": {}
        }
      ],
      "execution_count": 4,
      "metadata": {
        "execution": {
          "iopub.status.busy": "2020-09-05T01:40:19.864Z",
          "iopub.execute_input": "2020-09-05T01:40:19.877Z",
          "iopub.status.idle": "2020-09-05T01:40:20.048Z"
        }
      }
    },
    {
      "cell_type": "markdown",
      "source": [
        "Like regular `Tuples`, `NamedTuples` are ordered, so we can retrieve their elements via indexing:"
      ],
      "metadata": {}
    },
    {
      "cell_type": "code",
      "source": [
        "myfavoriteanimals[1]"
      ],
      "outputs": [
        {
          "output_type": "execute_result",
          "execution_count": 5,
          "data": {
            "text/plain": "\"penguins\""
          },
          "metadata": {}
        }
      ],
      "execution_count": 5,
      "metadata": {
        "execution": {
          "iopub.status.busy": "2020-09-05T01:40:23.217Z",
          "iopub.execute_input": "2020-09-05T01:40:23.230Z",
          "iopub.status.idle": "2020-09-05T01:40:23.254Z"
        }
      }
    },
    {
      "cell_type": "markdown",
      "source": [
        "They also add the special ability to access values by their name:"
      ],
      "metadata": {}
    },
    {
      "cell_type": "code",
      "source": [
        "myfavoriteanimals.bird"
      ],
      "outputs": [
        {
          "output_type": "execute_result",
          "execution_count": 6,
          "data": {
            "text/plain": "\"penguins\""
          },
          "metadata": {}
        }
      ],
      "execution_count": 6,
      "metadata": {
        "execution": {
          "iopub.status.busy": "2020-09-05T01:42:14.261Z",
          "iopub.execute_input": "2020-09-05T01:42:14.274Z",
          "iopub.status.idle": "2020-09-05T01:42:14.300Z"
        }
      }
    },
    {
      "cell_type": "markdown",
      "source": [
        "## Dictionaries\n",
        "\n",
        "If we have sets of data related to one another, we may choose to store that data in a dictionary. We can create a dictionary using the `Dict()` function, which we can initialize as an empty dictionary or one storing key, value pairs.\n",
        "\n",
        "Syntax:\n",
        "```julia\n",
        "Dict(key1 => value1, key2 => value2, ...)```\n",
        "\n",
        "A good example is a contacts list, where we associate names with phone numbers."
      ],
      "metadata": {}
    },
    {
      "cell_type": "code",
      "source": [
        "myphonebook = Dict(\"Jenny\" => \"867-5309\", \"Ghostbusters\" => \"555-2368\")"
      ],
      "outputs": [
        {
          "output_type": "execute_result",
          "execution_count": 7,
          "data": {
            "text/plain": "Dict{String,String} with 2 entries:\n  \"Jenny\"        => \"867-5309\"\n  \"Ghostbusters\" => \"555-2368\""
          },
          "metadata": {}
        }
      ],
      "execution_count": 7,
      "metadata": {
        "execution": {
          "iopub.status.busy": "2020-09-05T01:43:24.112Z",
          "iopub.execute_input": "2020-09-05T01:43:24.126Z",
          "iopub.status.idle": "2020-09-05T01:43:24.485Z"
        }
      }
    },
    {
      "cell_type": "markdown",
      "source": [
        "In this example, each name and number is a \"key\" and \"value\" pair. We can grab Jenny's number (a value) using the associated key"
      ],
      "metadata": {}
    },
    {
      "cell_type": "code",
      "source": [
        "myphonebook[\"Jenny\"]"
      ],
      "outputs": [
        {
          "output_type": "execute_result",
          "execution_count": 8,
          "data": {
            "text/plain": "\"867-5309\""
          },
          "metadata": {}
        }
      ],
      "execution_count": 8,
      "metadata": {
        "execution": {
          "iopub.status.busy": "2020-09-05T01:43:31.038Z",
          "iopub.execute_input": "2020-09-05T01:43:31.049Z",
          "iopub.status.idle": "2020-09-05T01:43:31.075Z"
        }
      }
    },
    {
      "cell_type": "markdown",
      "source": [
        "We can add another entry to this dictionary as follows"
      ],
      "metadata": {}
    },
    {
      "cell_type": "code",
      "source": [
        "myphonebook[\"Kramer\"] = \"555-FILK\""
      ],
      "outputs": [
        {
          "output_type": "execute_result",
          "execution_count": 9,
          "data": {
            "text/plain": "\"555-FILK\""
          },
          "metadata": {}
        }
      ],
      "execution_count": 9,
      "metadata": {
        "execution": {
          "iopub.status.busy": "2020-09-05T01:43:36.156Z",
          "iopub.execute_input": "2020-09-05T01:43:36.168Z",
          "iopub.status.idle": "2020-09-05T01:43:36.197Z"
        }
      }
    },
    {
      "cell_type": "markdown",
      "source": [
        "Let's check what our phonebook looks like now..."
      ],
      "metadata": {}
    },
    {
      "cell_type": "code",
      "source": [
        "myphonebook"
      ],
      "outputs": [
        {
          "output_type": "execute_result",
          "execution_count": 10,
          "data": {
            "text/plain": "Dict{String,String} with 3 entries:\n  \"Jenny\"        => \"867-5309\"\n  \"Kramer\"       => \"555-FILK\"\n  \"Ghostbusters\" => \"555-2368\""
          },
          "metadata": {}
        }
      ],
      "execution_count": 10,
      "metadata": {
        "execution": {
          "iopub.status.busy": "2020-09-05T01:43:38.633Z",
          "iopub.execute_input": "2020-09-05T01:43:38.645Z",
          "iopub.status.idle": "2020-09-05T01:43:38.671Z"
        }
      }
    },
    {
      "cell_type": "markdown",
      "source": [
        "We can delete Kramer from our contact list - and simultaneously grab his number - by using `pop!`"
      ],
      "metadata": {}
    },
    {
      "cell_type": "code",
      "source": [
        "pop!(myphonebook, \"Kramer\")"
      ],
      "outputs": [
        {
          "output_type": "execute_result",
          "execution_count": 11,
          "data": {
            "text/plain": "\"555-FILK\""
          },
          "metadata": {}
        }
      ],
      "execution_count": 11,
      "metadata": {
        "execution": {
          "iopub.status.busy": "2020-09-05T01:43:45.546Z",
          "iopub.execute_input": "2020-09-05T01:43:45.559Z",
          "iopub.status.idle": "2020-09-05T01:43:45.589Z"
        }
      }
    },
    {
      "cell_type": "code",
      "source": [
        "myphonebook"
      ],
      "outputs": [
        {
          "output_type": "execute_result",
          "execution_count": 12,
          "data": {
            "text/plain": "Dict{String,String} with 2 entries:\n  \"Jenny\"        => \"867-5309\"\n  \"Ghostbusters\" => \"555-2368\""
          },
          "metadata": {}
        }
      ],
      "execution_count": 12,
      "metadata": {
        "execution": {
          "iopub.status.busy": "2020-09-05T01:43:46.824Z",
          "iopub.execute_input": "2020-09-05T01:43:46.835Z",
          "iopub.status.idle": "2020-09-05T01:43:46.858Z"
        }
      }
    },
    {
      "cell_type": "markdown",
      "source": [
        "Unlike tuples and arrays, dictionaries are not ordered. So, we can't index into them."
      ],
      "metadata": {}
    },
    {
      "cell_type": "code",
      "source": [
        "myphonebook[1]"
      ],
      "outputs": [
        {
          "output_type": "error",
          "ename": "KeyError",
          "evalue": "KeyError: key 1 not found",
          "traceback": [
            "KeyError: key 1 not found",
            "",
            "Stacktrace:",
            " [1] getindex(::Dict{String,String}, ::Int64) at .\\dict.jl:477",
            " [2] top-level scope at In[13]:1"
          ]
        }
      ],
      "execution_count": 13,
      "metadata": {
        "execution": {
          "iopub.status.busy": "2020-09-05T01:43:53.560Z",
          "iopub.execute_input": "2020-09-05T01:43:53.576Z",
          "iopub.status.idle": "2020-09-05T01:43:53.654Z"
        }
      }
    },
    {
      "cell_type": "markdown",
      "source": [
        "In the example above, `julia` thinks you're trying to access a value associated with the key `1`."
      ],
      "metadata": {}
    },
    {
      "cell_type": "markdown",
      "source": [
        "## Arrays\n",
        "\n",
        "Unlike tuples, arrays are mutable. Unlike dictionaries, arrays contain ordered collections. <br>\n",
        "We can create an array by enclosing this collection in `[ ]`.\n",
        "\n",
        "Syntax: <br>\n",
        "```julia\n",
        "[item1, item2, ...]```\n",
        "\n",
        "\n",
        "For example, we might create an array to keep track of my friends"
      ],
      "metadata": {}
    },
    {
      "cell_type": "code",
      "source": [
        "myfriends = [\"Ted\", \"Robyn\", \"Barney\", \"Lily\", \"Marshall\"]"
      ],
      "outputs": [
        {
          "output_type": "execute_result",
          "execution_count": 14,
          "data": {
            "text/plain": "5-element Array{String,1}:\n \"Ted\"\n \"Robyn\"\n \"Barney\"\n \"Lily\"\n \"Marshall\""
          },
          "metadata": {}
        }
      ],
      "execution_count": 14,
      "metadata": {
        "execution": {
          "iopub.status.busy": "2020-09-05T01:44:37.774Z",
          "iopub.execute_input": "2020-09-05T01:44:37.790Z",
          "iopub.status.idle": "2020-09-05T01:44:38.283Z"
        }
      }
    },
    {
      "cell_type": "markdown",
      "source": [
        "The `1` in `Array{String,1}` means this is a one dimensional vector.  An `Array{String,2}` would be a 2d matrix, etc.  The `String` is the type of each element."
      ],
      "metadata": {}
    },
    {
      "cell_type": "markdown",
      "source": [
        "or to store a sequence of numbers"
      ],
      "metadata": {}
    },
    {
      "cell_type": "code",
      "source": [
        "fibonacci = [1, 1, 2, 3, 5, 8, 13]"
      ],
      "outputs": [
        {
          "output_type": "execute_result",
          "execution_count": 15,
          "data": {
            "text/plain": "7-element Array{Int64,1}:\n  1\n  1\n  2\n  3\n  5\n  8\n 13"
          },
          "metadata": {}
        }
      ],
      "execution_count": 15,
      "metadata": {
        "execution": {
          "iopub.status.busy": "2020-09-05T01:45:31.012Z",
          "iopub.execute_input": "2020-09-05T01:45:31.025Z",
          "iopub.status.idle": "2020-09-05T01:45:31.500Z"
        }
      }
    },
    {
      "cell_type": "code",
      "source": [
        "mixture = [1, 1, 2, 3, \"Ted\", \"Robyn\"]"
      ],
      "outputs": [
        {
          "output_type": "execute_result",
          "execution_count": 16,
          "data": {
            "text/plain": "6-element Array{Any,1}:\n 1\n 1\n 2\n 3\n  \"Ted\"\n  \"Robyn\""
          },
          "metadata": {}
        }
      ],
      "execution_count": 16,
      "metadata": {
        "execution": {
          "iopub.status.busy": "2020-09-05T01:45:33.692Z",
          "iopub.execute_input": "2020-09-05T01:45:33.710Z",
          "iopub.status.idle": "2020-09-05T01:45:34.633Z"
        }
      }
    },
    {
      "cell_type": "markdown",
      "source": [
        "Once we have an array, we can grab individual pieces of data from inside that array by indexing into the array. For example, if we want the third friend listed in `myfriends`, we write"
      ],
      "metadata": {}
    },
    {
      "cell_type": "code",
      "source": [
        "myfriends[3]"
      ],
      "outputs": [
        {
          "output_type": "execute_result",
          "execution_count": 17,
          "data": {
            "text/plain": "\"Barney\""
          },
          "metadata": {}
        }
      ],
      "execution_count": 17,
      "metadata": {
        "execution": {
          "iopub.status.busy": "2020-09-05T01:45:46.062Z",
          "iopub.execute_input": "2020-09-05T01:45:46.074Z",
          "iopub.status.idle": "2020-09-05T01:45:46.098Z"
        }
      }
    },
    {
      "cell_type": "markdown",
      "source": [
        "We can use indexing to edit an existing element of an array"
      ],
      "metadata": {}
    },
    {
      "cell_type": "code",
      "source": [
        "myfriends[3] = \"Baby Bop\""
      ],
      "outputs": [
        {
          "output_type": "execute_result",
          "execution_count": 18,
          "data": {
            "text/plain": "\"Baby Bop\""
          },
          "metadata": {}
        }
      ],
      "execution_count": 18,
      "metadata": {
        "execution": {
          "iopub.status.busy": "2020-09-05T01:45:55.226Z",
          "iopub.execute_input": "2020-09-05T01:45:55.238Z",
          "iopub.status.idle": "2020-09-05T01:45:55.264Z"
        }
      }
    },
    {
      "cell_type": "markdown",
      "source": [
        "Yes, Julia is 1-based indexing, not 0-based like Python.  Wars are faught over lesser issues. I have a friend with the wisdom of Solomon who proposes settling this once and for all with ½ 😃"
      ],
      "metadata": {}
    },
    {
      "cell_type": "markdown",
      "source": [
        "We can also edit the array by using the `push!` and `pop!` functions. `push!` adds an element to the end of an array and `pop!` removes the last element of an array.\n",
        "\n",
        "We can add another number to our fibonnaci sequence"
      ],
      "metadata": {}
    },
    {
      "cell_type": "code",
      "source": [
        "push!(fibonacci, 21)"
      ],
      "outputs": [
        {
          "output_type": "execute_result",
          "execution_count": 19,
          "data": {
            "text/plain": "8-element Array{Int64,1}:\n  1\n  1\n  2\n  3\n  5\n  8\n 13\n 21"
          },
          "metadata": {}
        }
      ],
      "execution_count": 19,
      "metadata": {
        "execution": {
          "iopub.status.busy": "2020-09-05T01:50:12.075Z",
          "iopub.execute_input": "2020-09-05T01:50:12.097Z",
          "iopub.status.idle": "2020-09-05T01:50:12.122Z"
        }
      }
    },
    {
      "cell_type": "markdown",
      "source": [
        "and then remove it"
      ],
      "metadata": {}
    },
    {
      "cell_type": "code",
      "source": [
        "pop!(fibonacci)"
      ],
      "outputs": [
        {
          "output_type": "execute_result",
          "execution_count": 20,
          "data": {
            "text/plain": "21"
          },
          "metadata": {}
        }
      ],
      "execution_count": 20,
      "metadata": {
        "execution": {
          "iopub.status.busy": "2020-09-05T01:50:14.357Z",
          "iopub.execute_input": "2020-09-05T01:50:14.369Z",
          "iopub.status.idle": "2020-09-05T01:50:14.484Z"
        }
      }
    },
    {
      "cell_type": "code",
      "source": [
        "fibonacci"
      ],
      "outputs": [
        {
          "output_type": "execute_result",
          "execution_count": 21,
          "data": {
            "text/plain": "7-element Array{Int64,1}:\n  1\n  1\n  2\n  3\n  5\n  8\n 13"
          },
          "metadata": {}
        }
      ],
      "execution_count": 21,
      "metadata": {
        "execution": {
          "iopub.status.busy": "2020-09-05T01:50:16.252Z",
          "iopub.execute_input": "2020-09-05T01:50:16.262Z",
          "iopub.status.idle": "2020-09-05T01:50:16.285Z"
        }
      }
    },
    {
      "cell_type": "markdown",
      "source": [
        "So far I've given examples of only 1D arrays of scalars, but arrays can have an arbitrary number of dimensions and can also store other arrays.\n",
        "<br><br>\n",
        "For example, the following are arrays of arrays:"
      ],
      "metadata": {}
    },
    {
      "cell_type": "code",
      "source": [
        "favorites = [[\"koobideh\", \"chocolate\", \"eggs\"],[\"penguins\", \"cats\", \"sugargliders\"]]"
      ],
      "outputs": [
        {
          "output_type": "execute_result",
          "execution_count": 22,
          "data": {
            "text/plain": "2-element Array{Array{String,1},1}:\n [\"koobideh\", \"chocolate\", \"eggs\"]\n [\"penguins\", \"cats\", \"sugargliders\"]"
          },
          "metadata": {}
        }
      ],
      "execution_count": 22,
      "metadata": {
        "execution": {
          "iopub.status.busy": "2020-09-05T01:50:35.706Z",
          "iopub.execute_input": "2020-09-05T01:50:35.721Z",
          "iopub.status.idle": "2020-09-05T01:50:36.272Z"
        }
      }
    },
    {
      "cell_type": "code",
      "source": [
        "numbers = [[1, 2, 3], [4, 5], [6, 7, 8, 9]]"
      ],
      "outputs": [
        {
          "output_type": "execute_result",
          "execution_count": 23,
          "data": {
            "text/plain": "3-element Array{Array{Int64,1},1}:\n [1, 2, 3]\n [4, 5]\n [6, 7, 8, 9]"
          },
          "metadata": {}
        }
      ],
      "execution_count": 23,
      "metadata": {
        "execution": {
          "iopub.status.busy": "2020-09-05T01:50:38.281Z",
          "iopub.execute_input": "2020-09-05T01:50:38.293Z",
          "iopub.status.idle": "2020-09-05T01:50:38.856Z"
        }
      }
    },
    {
      "cell_type": "markdown",
      "source": [
        "Below are examples of 2D and 3D arrays populated with random values."
      ],
      "metadata": {}
    },
    {
      "cell_type": "code",
      "source": [
        "rand(4, 3)"
      ],
      "outputs": [
        {
          "output_type": "execute_result",
          "execution_count": 24,
          "data": {
            "text/plain": "4×3 Array{Float64,2}:\n 0.685566  0.311765    0.943493\n 0.240349  0.681919    0.0425157\n 0.351384  0.322037    0.947639\n 0.677533  0.00378736  0.625971"
          },
          "metadata": {}
        }
      ],
      "execution_count": 24,
      "metadata": {
        "execution": {
          "iopub.status.busy": "2020-09-05T01:50:54.056Z",
          "iopub.execute_input": "2020-09-05T01:50:54.069Z",
          "iopub.status.idle": "2020-09-05T01:50:54.659Z"
        }
      }
    },
    {
      "cell_type": "code",
      "source": [
        "rand(4, 3, 2)"
      ],
      "outputs": [
        {
          "output_type": "execute_result",
          "execution_count": 25,
          "data": {
            "text/plain": "4×3×2 Array{Float64,3}:\n[:, :, 1] =\n 0.927703  0.880351  0.0924039\n 0.170846  0.538058  0.373567\n 0.264248  0.380522  0.264037\n 0.328954  0.819254  0.595753\n\n[:, :, 2] =\n 0.851168  0.199434  0.874242\n 0.443841  0.374509  0.67411\n 0.269042  0.204362  0.752113\n 0.770711  0.282712  0.16883"
          },
          "metadata": {}
        }
      ],
      "execution_count": 25,
      "metadata": {
        "execution": {
          "iopub.status.busy": "2020-09-05T01:50:55.579Z",
          "iopub.execute_input": "2020-09-05T01:50:55.594Z",
          "iopub.status.idle": "2020-09-05T01:50:56.315Z"
        }
      }
    },
    {
      "cell_type": "markdown",
      "source": [
        "Be careful when you want to copy arrays!"
      ],
      "metadata": {}
    },
    {
      "cell_type": "code",
      "source": [
        "fibonacci"
      ],
      "outputs": [
        {
          "output_type": "execute_result",
          "execution_count": 26,
          "data": {
            "text/plain": "7-element Array{Int64,1}:\n  1\n  1\n  2\n  3\n  5\n  8\n 13"
          },
          "metadata": {}
        }
      ],
      "execution_count": 26,
      "metadata": {
        "execution": {
          "iopub.status.busy": "2020-09-05T01:50:59.774Z",
          "iopub.execute_input": "2020-09-05T01:50:59.786Z",
          "iopub.status.idle": "2020-09-05T01:50:59.809Z"
        }
      }
    },
    {
      "cell_type": "code",
      "source": [
        "somenumbers = fibonacci"
      ],
      "outputs": [
        {
          "output_type": "execute_result",
          "execution_count": 27,
          "data": {
            "text/plain": "7-element Array{Int64,1}:\n  1\n  1\n  2\n  3\n  5\n  8\n 13"
          },
          "metadata": {}
        }
      ],
      "execution_count": 27,
      "metadata": {
        "execution": {
          "iopub.status.busy": "2020-09-05T01:51:01.572Z",
          "iopub.execute_input": "2020-09-05T01:51:01.584Z",
          "iopub.status.idle": "2020-09-05T01:51:01.614Z"
        }
      }
    },
    {
      "cell_type": "code",
      "source": [
        "somenumbers[1] = 404"
      ],
      "outputs": [
        {
          "output_type": "execute_result",
          "execution_count": 28,
          "data": {
            "text/plain": "404"
          },
          "metadata": {}
        }
      ],
      "execution_count": 28,
      "metadata": {
        "execution": {
          "iopub.status.busy": "2020-09-05T01:51:04.285Z",
          "iopub.execute_input": "2020-09-05T01:51:04.297Z",
          "iopub.status.idle": "2020-09-05T01:51:04.318Z"
        }
      }
    },
    {
      "cell_type": "code",
      "source": [
        "fibonacci"
      ],
      "outputs": [
        {
          "output_type": "execute_result",
          "execution_count": 29,
          "data": {
            "text/plain": "7-element Array{Int64,1}:\n 404\n   1\n   2\n   3\n   5\n   8\n  13"
          },
          "metadata": {}
        }
      ],
      "execution_count": 29,
      "metadata": {
        "execution": {
          "iopub.status.busy": "2020-09-05T01:51:05.307Z",
          "iopub.execute_input": "2020-09-05T01:51:05.317Z",
          "iopub.status.idle": "2020-09-05T01:51:05.339Z"
        }
      }
    },
    {
      "cell_type": "markdown",
      "source": [
        "Editing `somenumbers` caused `fibonacci` to get updated as well!\n",
        "\n",
        "In the above example, we didn't actually make a copy of `fibonacci`. We just created a new way to access the entries in the array bound to `fibonacci`.\n",
        "\n",
        "If we'd like to make a copy of the array bound to `fibonacci`, we can use the `copy` function."
      ],
      "metadata": {}
    },
    {
      "cell_type": "code",
      "source": [
        "# First, restore fibonacci\n",
        "fibonacci[1] = 1\n",
        "fibonacci"
      ],
      "outputs": [
        {
          "output_type": "execute_result",
          "execution_count": 30,
          "data": {
            "text/plain": "7-element Array{Int64,1}:\n  1\n  1\n  2\n  3\n  5\n  8\n 13"
          },
          "metadata": {}
        }
      ],
      "execution_count": 30,
      "metadata": {
        "execution": {
          "iopub.status.busy": "2020-09-05T01:51:30.292Z",
          "iopub.execute_input": "2020-09-05T01:51:30.305Z",
          "iopub.status.idle": "2020-09-05T01:51:30.333Z"
        }
      }
    },
    {
      "cell_type": "code",
      "source": [
        "somemorenumbers = copy(fibonacci)"
      ],
      "outputs": [
        {
          "output_type": "execute_result",
          "execution_count": 31,
          "data": {
            "text/plain": "7-element Array{Int64,1}:\n  1\n  1\n  2\n  3\n  5\n  8\n 13"
          },
          "metadata": {}
        }
      ],
      "execution_count": 31,
      "metadata": {
        "execution": {
          "iopub.status.busy": "2020-09-05T01:51:32.658Z",
          "iopub.execute_input": "2020-09-05T01:51:32.669Z",
          "iopub.status.idle": "2020-09-05T01:51:32.695Z"
        }
      }
    },
    {
      "cell_type": "code",
      "source": [
        "somemorenumbers[1] = 404"
      ],
      "outputs": [
        {
          "output_type": "execute_result",
          "execution_count": 32,
          "data": {
            "text/plain": "404"
          },
          "metadata": {}
        }
      ],
      "execution_count": 32,
      "metadata": {
        "execution": {
          "iopub.status.busy": "2020-09-05T01:51:34.064Z",
          "iopub.execute_input": "2020-09-05T01:51:34.074Z",
          "iopub.status.idle": "2020-09-05T01:51:34.098Z"
        }
      }
    },
    {
      "cell_type": "code",
      "source": [
        "fibonacci"
      ],
      "outputs": [
        {
          "output_type": "execute_result",
          "execution_count": 33,
          "data": {
            "text/plain": "7-element Array{Int64,1}:\n  1\n  1\n  2\n  3\n  5\n  8\n 13"
          },
          "metadata": {}
        }
      ],
      "execution_count": 33,
      "metadata": {
        "execution": {
          "iopub.status.busy": "2020-09-05T01:51:35.127Z",
          "iopub.execute_input": "2020-09-05T01:51:35.136Z",
          "iopub.status.idle": "2020-09-05T01:51:35.159Z"
        }
      }
    },
    {
      "cell_type": "markdown",
      "source": [
        "In this last example, fibonacci was not updated. Therefore we see that the arrays bound to `somemorenumbers` and `fibonacci` are distinct."
      ],
      "metadata": {}
    },
    {
      "cell_type": "markdown",
      "source": [
        "### Exercises\n",
        "\n",
        "#### 3.1\n",
        "Create an array, `a_ray`, with the following code:\n",
        "\n",
        "```julia\n",
        "a_ray = [1, 2, 3]\n",
        "```\n",
        "\n",
        "Add the number `4` to the end of this array and then remove it."
      ],
      "metadata": {}
    },
    {
      "cell_type": "code",
      "source": [
        "a_ray = [1, 2, 3]\n",
        "@assert a_ray == [1, 2, 3]"
      ],
      "outputs": [],
      "execution_count": 34,
      "metadata": {
        "execution": {
          "iopub.status.busy": "2020-09-05T02:01:27.951Z",
          "iopub.execute_input": "2020-09-05T02:01:27.962Z",
          "iopub.status.idle": "2020-09-05T02:01:27.980Z"
        }
      }
    },
    {
      "cell_type": "markdown",
      "source": [
        "#### 3.2\n",
        "Try to add \"Emergency\" as key to `myphonebook` with the value `string(911)` with the following code\n",
        "```julia\n",
        "myphonebook[\"Emergency\"] = 911\n",
        "```\n",
        "\n",
        "Why doesn't this work?"
      ],
      "metadata": {}
    },
    {
      "cell_type": "code",
      "source": [
        "myphonebook[\"Emergency\"] = 911\n",
        "myphonebook"
      ],
      "outputs": [
        {
          "output_type": "error",
          "ename": "MethodError",
          "evalue": "MethodError: Cannot `convert` an object of type Int64 to an object of type String\nClosest candidates are:\n  convert(::Type{T}, !Matched::T) where T<:AbstractString at strings/basic.jl:209\n  convert(::Type{T}, !Matched::AbstractString) where T<:AbstractString at strings/basic.jl:210\n  convert(::Type{T}, !Matched::T) where T at essentials.jl:171",
          "traceback": [
            "MethodError: Cannot `convert` an object of type Int64 to an object of type String\nClosest candidates are:\n  convert(::Type{T}, !Matched::T) where T<:AbstractString at strings/basic.jl:209\n  convert(::Type{T}, !Matched::AbstractString) where T<:AbstractString at strings/basic.jl:210\n  convert(::Type{T}, !Matched::T) where T at essentials.jl:171",
            "",
            "Stacktrace:",
            " [1] setindex!(::Dict{String,String}, ::Int64, ::String) at .\\dict.jl:380",
            " [2] top-level scope at In[39]:1"
          ]
        }
      ],
      "execution_count": 39,
      "metadata": {
        "collapsed": true,
        "jupyter": {
          "source_hidden": false,
          "outputs_hidden": false
        },
        "nteract": {
          "transient": {
            "deleting": false
          }
        },
        "execution": {
          "iopub.status.busy": "2020-09-05T02:03:40.271Z",
          "iopub.execute_input": "2020-09-05T02:03:40.283Z",
          "iopub.status.idle": "2020-09-05T02:03:40.308Z"
        }
      }
    },
    {
      "cell_type": "markdown",
      "source": [
        "#### 3.3\n",
        "Create a new dictionary called `flexible_phonebook` that has Jenny's number stored as an integer and Ghostbusters' number stored as a string with the following code\n",
        "\n",
        "```julia\n",
        "flexible_phonebook = Dict(\"Jenny\" => 8675309, \"Ghostbusters\" => \"555-2368\")\n",
        "```"
      ],
      "metadata": {}
    },
    {
      "cell_type": "code",
      "source": [
        "flexible_phonebook = Dict(\"Jenny\" => 8675309, \"Ghostbusters\" => \"555-2368\")\n",
        "print(flexible_phonebook)\n",
        "@assert flexible_phonebook == Dict(\"Jenny\" => 8675309, \"Ghostbusters\" => \"555-2368\")"
      ],
      "outputs": [
        {
          "output_type": "stream",
          "name": "stdout",
          "text": [
            "Dict{String,Any}(\"Jenny\" => 8675309,\"Ghostbusters\" => \"555-2368\")"
          ]
        }
      ],
      "execution_count": 41,
      "metadata": {
        "execution": {
          "iopub.status.busy": "2020-09-05T02:04:36.239Z",
          "iopub.execute_input": "2020-09-05T02:04:36.252Z",
          "iopub.status.idle": "2020-09-05T02:04:36.455Z"
        }
      }
    },
    {
      "cell_type": "markdown",
      "source": [
        "#### 3.4\n",
        "Add the key \"Emergency\" with the value `911` (an integer) to `flexible_phonebook`."
      ],
      "metadata": {}
    },
    {
      "cell_type": "code",
      "source": [
        "flexible_phonebook[\"Emergency\"] = 911\n",
        "@assert haskey(flexible_phonebook, \"Emergency\")"
      ],
      "outputs": [],
      "execution_count": 42,
      "metadata": {
        "execution": {
          "iopub.status.busy": "2020-09-05T02:06:36.532Z",
          "iopub.execute_input": "2020-09-05T02:06:36.544Z",
          "iopub.status.idle": "2020-09-05T02:06:36.564Z"
        }
      }
    },
    {
      "cell_type": "code",
      "source": [
        "@assert flexible_phonebook[\"Emergency\"] == 911"
      ],
      "outputs": [],
      "execution_count": 44,
      "metadata": {
        "execution": {
          "iopub.status.busy": "2020-09-05T02:06:57.521Z",
          "iopub.execute_input": "2020-09-05T02:06:57.535Z",
          "iopub.status.idle": "2020-09-05T02:06:57.558Z"
        }
      }
    },
    {
      "cell_type": "markdown",
      "source": [
        "#### 3.5\n",
        "Why can we add an integer as a value to `flexible_phonebook` but not `myphonebook`? How could we have initialized `myphonebook` so that it would accept integers as values?"
      ],
      "metadata": {}
    }
  ],
  "metadata": {
    "language_info": {
      "file_extension": ".jl",
      "name": "julia",
      "mimetype": "application/julia",
      "version": "1.4.2"
    },
    "kernelspec": {
      "name": "julia-1.0",
      "display_name": "Julia 1.0.3",
      "language": "julia"
    },
    "nteract": {
      "version": "0.25.0"
    }
  },
  "nbformat": 4,
  "nbformat_minor": 3
}