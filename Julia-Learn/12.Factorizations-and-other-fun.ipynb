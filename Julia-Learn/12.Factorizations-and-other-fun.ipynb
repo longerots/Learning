{
  "cells": [
    {
      "cell_type": "markdown",
      "source": [
        "# Factorizations and other fun\n",
        "Based on work by Andreas Noack\n",
        "\n",
        "## Outline\n",
        " - Factorizations\n",
        " - Special matrix structures\n",
        " - Generic linear algebra"
      ],
      "metadata": {}
    },
    {
      "cell_type": "markdown",
      "source": [
        "Before we get started, let's set up a linear system and use `LinearAlgebra` to bring in the factorizations and special matrix structures."
      ],
      "metadata": {}
    },
    {
      "cell_type": "code",
      "source": [
        "using LinearAlgebra\n",
        "A = rand(3, 3)\n",
        "x = fill(1, (3,))\n",
        "b = A * x"
      ],
      "outputs": [
        {
          "output_type": "execute_result",
          "execution_count": 1,
          "data": {
            "text/plain": "3-element Array{Float64,1}:\n 1.0877274715687582\n 1.104434566407183\n 1.9618702709864086"
          },
          "metadata": {}
        }
      ],
      "execution_count": 1,
      "metadata": {
        "execution": {
          "iopub.status.busy": "2020-09-08T08:33:50.992Z",
          "iopub.execute_input": "2020-09-08T08:33:51.779Z",
          "iopub.status.idle": "2020-09-08T08:33:53.219Z"
        }
      }
    },
    {
      "cell_type": "code",
      "source": [
        "x"
      ],
      "outputs": [
        {
          "output_type": "execute_result",
          "execution_count": 3,
          "data": {
            "text/plain": "3-element Array{Int64,1}:\n 1\n 1\n 1"
          },
          "metadata": {}
        }
      ],
      "execution_count": 3,
      "metadata": {
        "collapsed": true,
        "jupyter": {
          "source_hidden": false,
          "outputs_hidden": false
        },
        "nteract": {
          "transient": {
            "deleting": false
          }
        },
        "execution": {
          "iopub.status.busy": "2020-09-08T08:37:35.126Z",
          "iopub.execute_input": "2020-09-08T08:37:35.142Z",
          "iopub.status.idle": "2020-09-08T08:37:35.552Z"
        }
      }
    },
    {
      "cell_type": "markdown",
      "source": [
        "## Factorizations\n",
        "\n",
        "#### LU factorizations\n",
        "In Julia we can perform an LU factorization\n",
        "```julia\n",
        "PA = LU\n",
        "```\n",
        "where `P` is a permutation matrix, `L` is lower triangular unit diagonal and `U` is upper triangular, using `lufact`.\n",
        "\n",
        "Julia allows computing the LU factorization and defines a composite factorization type for storing it."
      ],
      "metadata": {}
    },
    {
      "cell_type": "code",
      "source": [
        "Alu = lu(A)"
      ],
      "outputs": [
        {
          "output_type": "execute_result",
          "execution_count": 4,
          "data": {
            "text/plain": "LU{Float64,Array{Float64,2}}\nL factor:\n3×3 Array{Float64,2}:\n 1.0       0.0       0.0\n 0.744046  1.0       0.0\n 0.813528  0.790591  1.0\nU factor:\n3×3 Array{Float64,2}:\n 0.712502   0.895025   0.354343\n 0.0       -0.272132  -0.0998628\n 0.0        0.0       -0.197506"
          },
          "metadata": {}
        }
      ],
      "execution_count": 4,
      "metadata": {
        "execution": {
          "iopub.status.busy": "2020-09-08T08:39:34.763Z",
          "iopub.execute_input": "2020-09-08T08:39:34.779Z",
          "iopub.status.idle": "2020-09-08T08:39:35.147Z"
        }
      }
    },
    {
      "cell_type": "code",
      "source": [
        "typeof(Alu)"
      ],
      "outputs": [
        {
          "output_type": "execute_result",
          "execution_count": 5,
          "data": {
            "text/plain": "LU{Float64,Array{Float64,2}}"
          },
          "metadata": {}
        }
      ],
      "execution_count": 5,
      "metadata": {
        "execution": {
          "iopub.status.busy": "2020-09-08T08:39:46.028Z",
          "iopub.execute_input": "2020-09-08T08:39:46.039Z",
          "iopub.status.idle": "2020-09-08T08:39:46.238Z"
        }
      }
    },
    {
      "cell_type": "markdown",
      "source": [
        "The different parts of the factorization can be extracted by accessing their special properties"
      ],
      "metadata": {}
    },
    {
      "cell_type": "code",
      "source": [
        "Alu.P"
      ],
      "outputs": [
        {
          "output_type": "execute_result",
          "execution_count": 6,
          "data": {
            "text/plain": "3×3 Array{Float64,2}:\n 0.0  0.0  1.0\n 1.0  0.0  0.0\n 0.0  1.0  0.0"
          },
          "metadata": {}
        }
      ],
      "execution_count": 6,
      "metadata": {
        "execution": {
          "iopub.status.busy": "2020-09-08T08:39:56.111Z",
          "iopub.execute_input": "2020-09-08T08:39:56.125Z",
          "iopub.status.idle": "2020-09-08T08:39:56.152Z"
        }
      }
    },
    {
      "cell_type": "code",
      "source": [
        "Alu.L"
      ],
      "outputs": [
        {
          "output_type": "execute_result",
          "execution_count": 7,
          "data": {
            "text/plain": "3×3 Array{Float64,2}:\n 1.0       0.0       0.0\n 0.744046  1.0       0.0\n 0.813528  0.790591  1.0"
          },
          "metadata": {}
        }
      ],
      "execution_count": 7,
      "metadata": {
        "execution": {
          "iopub.status.busy": "2020-09-08T08:40:00.207Z",
          "iopub.execute_input": "2020-09-08T08:40:00.220Z",
          "iopub.status.idle": "2020-09-08T08:40:00.244Z"
        }
      }
    },
    {
      "cell_type": "code",
      "source": [
        "Alu.U"
      ],
      "outputs": [
        {
          "output_type": "execute_result",
          "execution_count": 8,
          "data": {
            "text/plain": "3×3 Array{Float64,2}:\n 0.712502   0.895025   0.354343\n 0.0       -0.272132  -0.0998628\n 0.0        0.0       -0.197506"
          },
          "metadata": {}
        }
      ],
      "execution_count": 8,
      "metadata": {
        "execution": {
          "iopub.status.busy": "2020-09-08T08:40:04.055Z",
          "iopub.execute_input": "2020-09-08T08:40:04.065Z",
          "iopub.status.idle": "2020-09-08T08:40:04.085Z"
        }
      }
    },
    {
      "cell_type": "markdown",
      "source": [
        "Julia can dispatch methods on factorization objects.\n",
        "\n",
        "For example, we can solve the linear system using either the original matrix or the factorization object."
      ],
      "metadata": {}
    },
    {
      "cell_type": "code",
      "source": [
        "A\\b"
      ],
      "outputs": [
        {
          "output_type": "execute_result",
          "execution_count": 9,
          "data": {
            "text/plain": "3-element Array{Float64,1}:\n 1.0\n 1.0\n 1.0000000000000002"
          },
          "metadata": {}
        }
      ],
      "execution_count": 9,
      "metadata": {
        "execution": {
          "iopub.status.busy": "2020-09-08T08:42:23.249Z",
          "iopub.execute_input": "2020-09-08T08:42:23.266Z",
          "iopub.status.idle": "2020-09-08T08:42:23.839Z"
        }
      }
    },
    {
      "cell_type": "code",
      "source": [
        "Alu\\b"
      ],
      "outputs": [
        {
          "output_type": "execute_result",
          "execution_count": 10,
          "data": {
            "text/plain": "3-element Array{Float64,1}:\n 1.0\n 1.0\n 1.0000000000000002"
          },
          "metadata": {}
        }
      ],
      "execution_count": 10,
      "metadata": {
        "execution": {
          "iopub.status.busy": "2020-09-08T08:42:27.975Z",
          "iopub.execute_input": "2020-09-08T08:42:27.987Z",
          "iopub.status.idle": "2020-09-08T08:42:28.007Z"
        }
      }
    },
    {
      "cell_type": "markdown",
      "source": [
        "Similarly, we can calculate the determinant of `A` using either `A` or the factorization object"
      ],
      "metadata": {}
    },
    {
      "cell_type": "code",
      "source": [
        "det(A) ≈ det(Alu)"
      ],
      "outputs": [],
      "execution_count": null,
      "metadata": {}
    },
    {
      "cell_type": "markdown",
      "source": [
        "#### QR factorizations\n",
        "\n",
        "In Julia we can perform a QR factorization\n",
        "```\n",
        "A=QR\n",
        "```\n",
        "\n",
        "where `Q` is unitary/orthogonal and `R` is upper triangular, using `qrfact`."
      ],
      "metadata": {}
    },
    {
      "cell_type": "code",
      "source": [
        "Aqr = qr(A)"
      ],
      "outputs": [],
      "execution_count": null,
      "metadata": {}
    },
    {
      "cell_type": "markdown",
      "source": [
        "Similarly to the LU factorization, the matrices `Q` and `R` can be extracted from the QR factorization object via"
      ],
      "metadata": {}
    },
    {
      "cell_type": "code",
      "source": [
        "Aqr.Q"
      ],
      "outputs": [],
      "execution_count": null,
      "metadata": {}
    },
    {
      "cell_type": "code",
      "source": [
        "Aqr.R"
      ],
      "outputs": [],
      "execution_count": null,
      "metadata": {}
    },
    {
      "cell_type": "markdown",
      "source": [
        "#### Eigendecompositions"
      ],
      "metadata": {}
    },
    {
      "cell_type": "markdown",
      "source": [
        "The results from eigendecompositions, singular value decompositions, Hessenberg factorizations, and Schur decompositions are all stored in `Factorization` types.\n",
        "\n",
        "The eigendecomposition can be computed"
      ],
      "metadata": {}
    },
    {
      "cell_type": "code",
      "source": [
        "Asym = A + A'\n",
        "AsymEig = eigen(Asym)"
      ],
      "outputs": [],
      "execution_count": null,
      "metadata": {}
    },
    {
      "cell_type": "markdown",
      "source": [
        "The values and the vectors can be extracted from the Eigen type by special indexing"
      ],
      "metadata": {}
    },
    {
      "cell_type": "code",
      "source": [
        "AsymEig.values"
      ],
      "outputs": [],
      "execution_count": null,
      "metadata": {}
    },
    {
      "cell_type": "code",
      "source": [
        "AsymEig.vectors"
      ],
      "outputs": [],
      "execution_count": null,
      "metadata": {}
    },
    {
      "cell_type": "markdown",
      "source": [
        "Once again, when the factorization is stored in a type, we can dispatch on it and write specialized methods that exploit the properties of the factorization, e.g. that $A^{-1}=(V\\Lambda V^{-1})^{-1}=V\\Lambda^{-1}V^{-1}$."
      ],
      "metadata": {}
    },
    {
      "cell_type": "code",
      "source": [
        "inv(AsymEig)*Asym"
      ],
      "outputs": [],
      "execution_count": null,
      "metadata": {}
    },
    {
      "cell_type": "markdown",
      "source": [
        "## Special matrix structures\n",
        "Matrix structure is very important in linear algebra. To see *how* important it is, let's work with a larger linear system"
      ],
      "metadata": {}
    },
    {
      "cell_type": "code",
      "source": [
        "n = 1000\n",
        "A = randn(n,n);"
      ],
      "outputs": [],
      "execution_count": null,
      "metadata": {}
    },
    {
      "cell_type": "markdown",
      "source": [
        "Julia can often infer special matrix structure"
      ],
      "metadata": {}
    },
    {
      "cell_type": "code",
      "source": [
        "Asym = A + A'\n",
        "issymmetric(Asym)"
      ],
      "outputs": [],
      "execution_count": null,
      "metadata": {}
    },
    {
      "cell_type": "markdown",
      "source": [
        "but sometimes floating point error might get in the way."
      ],
      "metadata": {}
    },
    {
      "cell_type": "code",
      "source": [
        "Asym_noisy = copy(Asym)\n",
        "Asym_noisy[1,2] += 5eps()"
      ],
      "outputs": [],
      "execution_count": null,
      "metadata": {}
    },
    {
      "cell_type": "code",
      "source": [
        "issymmetric(Asym_noisy)"
      ],
      "outputs": [],
      "execution_count": null,
      "metadata": {}
    },
    {
      "cell_type": "markdown",
      "source": [
        "Luckily we can declare structure explicitly with, for example, `Diagonal`, `Triangular`, `Symmetric`, `Hermitian`, `Tridiagonal` and `SymTridiagonal`."
      ],
      "metadata": {}
    },
    {
      "cell_type": "code",
      "source": [
        "Asym_explicit = Symmetric(Asym_noisy);"
      ],
      "outputs": [],
      "execution_count": null,
      "metadata": {}
    },
    {
      "cell_type": "markdown",
      "source": [
        "Let's compare how long it takes Julia to compute the eigenvalues of `Asym`, `Asym_noisy`, and `Asym_explicit`"
      ],
      "metadata": {}
    },
    {
      "cell_type": "code",
      "source": [
        "@time eigvals(Asym);"
      ],
      "outputs": [],
      "execution_count": null,
      "metadata": {}
    },
    {
      "cell_type": "code",
      "source": [
        "@time eigvals(Asym_noisy);"
      ],
      "outputs": [],
      "execution_count": null,
      "metadata": {}
    },
    {
      "cell_type": "code",
      "source": [
        "@time eigvals(Asym_explicit);"
      ],
      "outputs": [],
      "execution_count": null,
      "metadata": {}
    },
    {
      "cell_type": "markdown",
      "source": [
        "In this example, using `Symmetric()` on `Asym_noisy` made our calculations about `5x` more efficient :)"
      ],
      "metadata": {}
    },
    {
      "cell_type": "markdown",
      "source": [
        "#### A big problem\n",
        "Using the `Tridiagonal` and `SymTridiagonal` types to store tridiagonal matrices makes it possible to work with potentially very large tridiagonal problems. The following problem would not be possible to solve on a laptop if the matrix had to be stored as a (dense) `Matrix` type."
      ],
      "metadata": {}
    },
    {
      "cell_type": "code",
      "source": [
        "n = 1_000_000;\n",
        "A = SymTridiagonal(randn(n), randn(n-1));\n",
        "@time eigmax(A)"
      ],
      "outputs": [],
      "execution_count": null,
      "metadata": {}
    },
    {
      "cell_type": "markdown",
      "source": [
        "## Generic linear algebra\n",
        "The usual way of adding support for numerical linear algebra is by wrapping BLAS and LAPACK subroutines. For matrices with elements of `Float32`, `Float64`, `Complex{Float32}` or `Complex{Float64}` this is also what Julia does.\n",
        "\n",
        "However, Julia also supports generic linear algebra, allowing you to, for example, work with matrices and vectors of rational numbers."
      ],
      "metadata": {}
    },
    {
      "cell_type": "markdown",
      "source": [
        "#### Rational numbers\n",
        "Julia has rational numbers built in. To construct a rational number, use double forward slashes:"
      ],
      "metadata": {}
    },
    {
      "cell_type": "code",
      "source": [
        "1//2"
      ],
      "outputs": [],
      "execution_count": null,
      "metadata": {}
    },
    {
      "cell_type": "markdown",
      "source": [
        "#### Example: Rational linear system of equations\n",
        "The following example shows how linear system of equations with rational elements can be solved without promoting to floating point element types. Overflow can easily become a problem when working with rational numbers so we use `BigInt`s."
      ],
      "metadata": {}
    },
    {
      "cell_type": "code",
      "source": [
        "Arational = Matrix{Rational{BigInt}}(rand(1:10, 3, 3))/10"
      ],
      "outputs": [],
      "execution_count": null,
      "metadata": {}
    },
    {
      "cell_type": "code",
      "source": [
        "x = fill(1, 3)\n",
        "b = Arational*x"
      ],
      "outputs": [],
      "execution_count": null,
      "metadata": {}
    },
    {
      "cell_type": "code",
      "source": [
        "Arational\\b"
      ],
      "outputs": [],
      "execution_count": null,
      "metadata": {}
    },
    {
      "cell_type": "code",
      "source": [
        "lu(Arational)"
      ],
      "outputs": [],
      "execution_count": null,
      "metadata": {}
    },
    {
      "cell_type": "markdown",
      "source": [
        "### Exercises\n",
        "\n",
        "#### 11.1\n",
        "What are the eigenvalues of matrix A?\n",
        "\n",
        "```\n",
        "A =\n",
        "[\n",
        " 140   97   74  168  131\n",
        "  97  106   89  131   36\n",
        "  74   89  152  144   71\n",
        " 168  131  144   54  142\n",
        " 131   36   71  142   36\n",
        "]\n",
        "```\n",
        "and assign it a variable `A_eigv`"
      ],
      "metadata": {}
    },
    {
      "cell_type": "code",
      "source": [
        "using LinearAlgebra"
      ],
      "outputs": [],
      "execution_count": null,
      "metadata": {}
    },
    {
      "cell_type": "code",
      "source": [
        "@assert A_eigv ==  [-128.49322764802145, -55.887784553056875, 42.7521672793189, 87.16111477514521, 542.4677301466143]"
      ],
      "outputs": [],
      "execution_count": null,
      "metadata": {}
    },
    {
      "cell_type": "markdown",
      "source": [
        "#### 11.2\n",
        "Create a `Diagonal` matrix from the eigenvalues of `A`."
      ],
      "metadata": {}
    },
    {
      "cell_type": "code",
      "source": [
        "@assert A_diag ==  [-128.493    0.0      0.0      0.0       0.0;\n",
        "    0.0    -55.8878   0.0      0.0       0.0;\n",
        "    0.0      0.0     42.7522   0.0       0.0;\n",
        "    0.0      0.0      0.0     87.1611    0.0;\n",
        "    0.0 0.0      0.0      0.0     542.468]\n",
        "# #### 11.3\n",
        "# Create a `LowerTriangular` matrix from `A` and store it in `A_lowertri`\n",
        "@assert A_lowertri ==  [140    0    0    0   0;\n",
        "  97  106    0    0   0;\n",
        "  74   89  152    0   0;\n",
        " 168  131  144   54   0;\n",
        " 131   36   71  142  36]"
      ],
      "outputs": [],
      "execution_count": null,
      "metadata": {}
    }
  ],
  "metadata": {
    "language_info": {
      "file_extension": ".jl",
      "name": "julia",
      "mimetype": "application/julia",
      "version": "1.4.2"
    },
    "kernelspec": {
      "name": "julia-1.0",
      "display_name": "Julia 1.0.3",
      "language": "julia"
    },
    "nteract": {
      "version": "0.25.0"
    }
  },
  "nbformat": 4,
  "nbformat_minor": 3
}