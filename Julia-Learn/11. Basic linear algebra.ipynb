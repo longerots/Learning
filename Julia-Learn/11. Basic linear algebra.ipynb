{
  "cells": [
    {
      "cell_type": "markdown",
      "source": [
        "# Basic linear algebra in Julia\n",
        "Author: Andreas Noack Jensen (MIT) (http://www.econ.ku.dk/phdstudent/noack/)\n",
        "(with edits from Jane Herriman)"
      ],
      "metadata": {}
    },
    {
      "cell_type": "markdown",
      "source": [
        "First let's define a random matrix"
      ],
      "metadata": {}
    },
    {
      "cell_type": "code",
      "source": [
        "A = rand(1:4,3,3)"
      ],
      "outputs": [
        {
          "output_type": "execute_result",
          "execution_count": 1,
          "data": {
            "text/plain": "3×3 Array{Int64,2}:\n 4  3  2\n 3  4  1\n 2  3  4"
          },
          "metadata": {}
        }
      ],
      "execution_count": 1,
      "metadata": {
        "execution": {
          "iopub.status.busy": "2020-09-07T02:27:57.919Z",
          "iopub.execute_input": "2020-09-07T02:27:58.710Z",
          "iopub.status.idle": "2020-09-07T02:28:00.082Z"
        }
      }
    },
    {
      "cell_type": "markdown",
      "source": [
        "Define a vector of ones"
      ],
      "metadata": {}
    },
    {
      "cell_type": "code",
      "source": [
        "x = fill(1.0, (3,)) # = fill(1.0, 3)"
      ],
      "outputs": [
        {
          "output_type": "execute_result",
          "execution_count": 2,
          "data": {
            "text/plain": "3-element Array{Float64,1}:\n 1.0\n 1.0\n 1.0"
          },
          "metadata": {}
        }
      ],
      "execution_count": 2,
      "metadata": {
        "execution": {
          "iopub.status.busy": "2020-09-07T02:28:19.296Z",
          "iopub.execute_input": "2020-09-07T02:28:19.305Z",
          "iopub.status.idle": "2020-09-07T02:28:19.887Z"
        }
      }
    },
    {
      "cell_type": "markdown",
      "source": [
        "Notice that $A$ has type Array{Int64,2} but $x$ has type Array{Float64,1}. Julia defines the aliases Vector{Type}=Array{Type,1} and Matrix{Type}=Array{Type,2}. \n",
        "\n",
        "Many of the basic operations are the same as in other languages\n",
        "#### Multiplication"
      ],
      "metadata": {}
    },
    {
      "cell_type": "code",
      "source": [
        "b = A*x"
      ],
      "outputs": [
        {
          "output_type": "execute_result",
          "execution_count": 3,
          "data": {
            "text/plain": "3-element Array{Float64,1}:\n 9.0\n 8.0\n 9.0"
          },
          "metadata": {}
        }
      ],
      "execution_count": 3,
      "metadata": {
        "execution": {
          "iopub.status.busy": "2020-09-07T02:28:56.947Z",
          "iopub.execute_input": "2020-09-07T02:28:56.959Z",
          "iopub.status.idle": "2020-09-07T02:28:56.979Z"
        }
      }
    },
    {
      "cell_type": "markdown",
      "source": [
        "#### Transposition\n",
        "As in other languages `A'` is the conjugate transpose, or adjoint"
      ],
      "metadata": {}
    },
    {
      "cell_type": "code",
      "source": [
        "A'"
      ],
      "outputs": [
        {
          "output_type": "execute_result",
          "execution_count": 4,
          "data": {
            "text/plain": "3×3 LinearAlgebra.Adjoint{Int64,Array{Int64,2}}:\n 4  3  2\n 3  4  3\n 2  1  4"
          },
          "metadata": {}
        }
      ],
      "execution_count": 4,
      "metadata": {
        "execution": {
          "iopub.status.busy": "2020-09-07T02:29:13.490Z",
          "iopub.execute_input": "2020-09-07T02:29:13.505Z",
          "iopub.status.idle": "2020-09-07T02:29:14.023Z"
        }
      }
    },
    {
      "cell_type": "markdown",
      "source": [
        "and we can get the transpose with"
      ],
      "metadata": {}
    },
    {
      "cell_type": "code",
      "source": [
        "transpose(A)"
      ],
      "outputs": [
        {
          "output_type": "execute_result",
          "execution_count": 5,
          "data": {
            "text/plain": "3×3 LinearAlgebra.Transpose{Int64,Array{Int64,2}}:\n 4  3  2\n 3  4  3\n 2  1  4"
          },
          "metadata": {}
        }
      ],
      "execution_count": 5,
      "metadata": {
        "execution": {
          "iopub.status.busy": "2020-09-07T02:29:21.777Z",
          "iopub.execute_input": "2020-09-07T02:29:21.784Z",
          "iopub.status.idle": "2020-09-07T02:29:22.299Z"
        }
      }
    },
    {
      "cell_type": "markdown",
      "source": [
        "#### Transposed multiplication\n",
        "Julia allows us to write this without *"
      ],
      "metadata": {}
    },
    {
      "cell_type": "code",
      "source": [
        "A'A"
      ],
      "outputs": [
        {
          "output_type": "execute_result",
          "execution_count": 9,
          "data": {
            "text/plain": "3-element Array{Float64,1}:\n 9.0\n 8.0\n 9.0"
          },
          "metadata": {}
        }
      ],
      "execution_count": 9,
      "metadata": {
        "execution": {
          "iopub.status.busy": "2020-09-07T02:31:21.489Z",
          "iopub.execute_input": "2020-09-07T02:31:21.496Z",
          "iopub.status.idle": "2020-09-07T02:31:21.514Z"
        }
      }
    },
    {
      "cell_type": "markdown",
      "source": [
        "#### Solving linear systems \n",
        "The problem $Ax=b$ for ***square*** $A$ is solved by the \\ function."
      ],
      "metadata": {}
    },
    {
      "cell_type": "code",
      "source": [
        "A\\b"
      ],
      "outputs": [
        {
          "output_type": "execute_result",
          "execution_count": 10,
          "data": {
            "text/plain": "3-element Array{Float64,1}:\n 1.0\n 1.0\n 1.0"
          },
          "metadata": {}
        }
      ],
      "execution_count": 10,
      "metadata": {
        "execution": {
          "iopub.status.busy": "2020-09-07T02:31:35.908Z",
          "iopub.execute_input": "2020-09-07T02:31:35.915Z",
          "iopub.status.idle": "2020-09-07T02:31:35.930Z"
        }
      }
    },
    {
      "cell_type": "markdown",
      "source": [
        "`A\\b` gives us the *least squares solution* if we have an overdetermined linear system (a \"tall\" matrix)"
      ],
      "metadata": {}
    },
    {
      "cell_type": "code",
      "source": [
        "Atall = rand(3, 2)"
      ],
      "outputs": [
        {
          "output_type": "execute_result",
          "execution_count": 11,
          "data": {
            "text/plain": "3×2 Array{Float64,2}:\n 0.451885  0.346487\n 0.296671  0.113907\n 0.601671  0.247643"
          },
          "metadata": {}
        }
      ],
      "execution_count": 11,
      "metadata": {
        "execution": {
          "iopub.status.busy": "2020-09-07T02:31:41.858Z",
          "iopub.execute_input": "2020-09-07T02:31:41.865Z",
          "iopub.status.idle": "2020-09-07T02:31:41.878Z"
        }
      }
    },
    {
      "cell_type": "code",
      "source": [
        "Atall\\b"
      ],
      "outputs": [
        {
          "output_type": "execute_result",
          "execution_count": 16,
          "data": {
            "text/plain": "2-element Array{Float64,1}:\n 15.043384103003339\n  5.933609332489172"
          },
          "metadata": {}
        }
      ],
      "execution_count": 16,
      "metadata": {
        "execution": {
          "iopub.status.busy": "2020-09-07T02:39:55.340Z",
          "iopub.execute_input": "2020-09-07T02:39:55.346Z",
          "iopub.status.idle": "2020-09-07T02:39:55.361Z"
        }
      }
    },
    {
      "cell_type": "markdown",
      "source": [
        "and the *minimum norm least squares solution* if we have a rank-deficient least squares problem"
      ],
      "metadata": {}
    },
    {
      "cell_type": "code",
      "source": [
        "v = rand(3)\n",
        "rankdef = hcat(v, v)"
      ],
      "outputs": [
        {
          "output_type": "execute_result",
          "execution_count": 13,
          "data": {
            "text/plain": "3×2 Array{Float64,2}:\n 0.439584  0.439584\n 0.159483  0.159483\n 0.592095  0.592095"
          },
          "metadata": {}
        }
      ],
      "execution_count": 13,
      "metadata": {
        "execution": {
          "iopub.status.busy": "2020-09-07T02:36:06.932Z",
          "iopub.execute_input": "2020-09-07T02:36:06.944Z",
          "iopub.status.idle": "2020-09-07T02:36:06.991Z"
        }
      }
    },
    {
      "cell_type": "code",
      "source": [
        "rankdef\\b"
      ],
      "outputs": [
        {
          "output_type": "execute_result",
          "execution_count": 14,
          "data": {
            "text/plain": "2-element Array{Float64,1}:\n 9.276288785346484\n 9.276288785346482"
          },
          "metadata": {}
        }
      ],
      "execution_count": 14,
      "metadata": {
        "execution": {
          "iopub.status.busy": "2020-09-07T02:36:56.582Z",
          "iopub.execute_input": "2020-09-07T02:36:56.594Z",
          "iopub.status.idle": "2020-09-07T02:36:56.610Z"
        }
      }
    },
    {
      "cell_type": "markdown",
      "source": [
        "Julia also gives us the minimum norm solution when we have an underdetermined solution (a \"short\" matrix)"
      ],
      "metadata": {}
    },
    {
      "cell_type": "code",
      "source": [
        "bshort = rand(2)\n",
        "Ashort = rand(2, 3)"
      ],
      "outputs": [
        {
          "output_type": "execute_result",
          "execution_count": 17,
          "data": {
            "text/plain": "2×3 Array{Float64,2}:\n 0.573847  0.597022  0.576206\n 0.98448   0.462742  0.27411"
          },
          "metadata": {}
        }
      ],
      "execution_count": 17,
      "metadata": {
        "execution": {
          "iopub.status.busy": "2020-09-07T02:40:59.487Z",
          "iopub.execute_input": "2020-09-07T02:40:59.493Z",
          "iopub.status.idle": "2020-09-07T02:40:59.507Z"
        }
      }
    },
    {
      "cell_type": "code",
      "source": [
        "Ashort\\bshort"
      ],
      "outputs": [
        {
          "output_type": "execute_result",
          "execution_count": 18,
          "data": {
            "text/plain": "3-element Array{Float64,1}:\n  0.49376775319464483\n -0.13010699841137552\n -0.32335811267079745"
          },
          "metadata": {}
        }
      ],
      "execution_count": 18,
      "metadata": {
        "execution": {
          "iopub.status.busy": "2020-09-07T02:41:02.509Z",
          "iopub.execute_input": "2020-09-07T02:41:02.518Z",
          "iopub.status.idle": "2020-09-07T02:41:02.535Z"
        }
      }
    },
    {
      "cell_type": "markdown",
      "source": [
        "# The LinearAlgebra library\n",
        "\n",
        "While much of linear algebra is available in Julia by default (as shown above), there's a standard library named `LinearAlgebra` that brings in many more relevant names and functions. In particular, it provides factorizations and some structured matrix types.  As with all packages, you can bring these additional features into your session with a `using LinearAlgebra`."
      ],
      "metadata": {}
    },
    {
      "cell_type": "markdown",
      "source": [
        "### Exercises\n",
        "\n",
        "#### 10.1 \n",
        "Take the inner product (or \"dot\" product) of a vector `v` with itself and assign it to variable `dot_v`.\n",
        "\n"
      ],
      "metadata": {}
    },
    {
      "cell_type": "code",
      "source": [
        "v = [1,2,3]\n",
        "dot_v = v'v\n",
        "\n"
      ],
      "outputs": [
        {
          "output_type": "execute_result",
          "execution_count": 21,
          "data": {
            "text/plain": "14"
          },
          "metadata": {}
        }
      ],
      "execution_count": 21,
      "metadata": {
        "execution": {
          "iopub.status.busy": "2020-09-07T02:44:00.533Z",
          "iopub.execute_input": "2020-09-07T02:44:00.541Z",
          "iopub.status.idle": "2020-09-07T02:44:00.704Z"
        }
      }
    },
    {
      "cell_type": "code",
      "source": [],
      "outputs": [],
      "execution_count": null,
      "metadata": {}
    },
    {
      "cell_type": "code",
      "source": [
        "@assert dot_v == 14"
      ],
      "outputs": [],
      "execution_count": null,
      "metadata": {
        "deletable": false,
        "editable": false,
        "hide_input": true,
        "nbgrader": {
          "checksum": "b93dad361f66498eb2460d708f674220",
          "grade": true,
          "grade_id": "cell-913fef9b0d19cd52",
          "locked": true,
          "points": 1,
          "schema_version": 1,
          "solution": false
        }
      }
    },
    {
      "cell_type": "markdown",
      "source": [
        "#### 10.2 \n",
        "Take the outer product of a vector v with itself and assign it to variable `outer_v`"
      ],
      "metadata": {}
    },
    {
      "cell_type": "code",
      "source": [],
      "outputs": [],
      "execution_count": null,
      "metadata": {}
    },
    {
      "cell_type": "code",
      "source": [
        "@assert outer_v == [1 2 3\n",
        "                    2 4 6\n",
        "                    3 6 9]"
      ],
      "outputs": [],
      "execution_count": null,
      "metadata": {}
    },
    {
      "cell_type": "code",
      "source": [
        "@assert cross_v == [0, 0, 0]"
      ],
      "outputs": [],
      "execution_count": null,
      "metadata": {
        "deletable": false,
        "editable": false,
        "hide_input": true,
        "nbgrader": {
          "checksum": "01642581e27c0ac19752cd90d11ac2ae",
          "grade": true,
          "grade_id": "cell-e6b6970ffe104df5",
          "locked": true,
          "points": 1,
          "schema_version": 1,
          "solution": false
        }
      }
    },
    {
      "cell_type": "markdown",
      "source": [
        "Please click on `Validate` on the top, once you are done with the exercises."
      ],
      "metadata": {}
    }
  ],
  "metadata": {
    "kernelspec": {
      "display_name": "Julia 1.0.5",
      "language": "julia",
      "name": "julia-1.0"
    },
    "language": "Julia",
    "language_info": {
      "file_extension": ".jl",
      "name": "julia",
      "mimetype": "application/julia",
      "version": "1.4.2"
    },
    "nteract": {
      "version": "0.25.0"
    }
  },
  "nbformat": 4,
  "nbformat_minor": 1
}